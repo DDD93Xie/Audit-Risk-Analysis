{
 "cells": [
  {
   "cell_type": "code",
   "execution_count": 1,
   "metadata": {},
   "outputs": [
    {
     "name": "stderr",
     "output_type": "stream",
     "text": [
      "Using TensorFlow backend.\n"
     ]
    }
   ],
   "source": [
    "import numpy as np\n",
    "import pandas as pd\n",
    "from sklearn.preprocessing import MinMaxScaler\n",
    "from keras.models import Sequential\n",
    "from keras.layers import Dense, Activation\n",
    "from sklearn.ensemble import BaggingRegressor\n",
    "from sklearn.ensemble import AdaBoostRegressor\n",
    "from  sklearn.ensemble import GradientBoostingRegressor\n",
    "from sklearn.ensemble import VotingClassifier\n",
    "from sklearn.ensemble import BaggingClassifier\n",
    "from sklearn.tree import DecisionTreeClassifier\n",
    "from  sklearn.metrics import accuracy_score\n",
    "\n",
    "from sklearn.ensemble import AdaBoostClassifier\n",
    "from sklearn.ensemble import GradientBoostingClassifier\n",
    "\n",
    "\n",
    "\n",
    "from sklearn.neighbors import KNeighborsClassifier\n",
    "from sklearn.model_selection import cross_val_score\n",
    "from sklearn.linear_model import LogisticRegression\n",
    "from sklearn.preprocessing import PolynomialFeatures\n",
    "from sklearn.linear_model import Ridge\n",
    "from sklearn.linear_model import LinearRegression\n",
    "from sklearn.model_selection import cross_val_score\n",
    "from sklearn.preprocessing import MinMaxScaler\n",
    "from sklearn.linear_model import Lasso\n",
    "from sklearn.metrics import confusion_matrix\n",
    "import statistics\n",
    "from sklearn.svm import SVR\n",
    "from sklearn.linear_model import SGDRegressor\n",
    "from sklearn.svm import LinearSVC\n",
    "from sklearn.svm import SVC\n",
    "from sklearn.metrics import confusion_matrix\n",
    "import statistics\n",
    "from sklearn.tree import DecisionTreeClassifier\n",
    "\n",
    "from sklearn.model_selection import GridSearchCV\n"
   ]
  },
  {
   "cell_type": "code",
   "execution_count": 2,
   "metadata": {},
   "outputs": [
    {
     "data": {
      "text/html": [
       "<div>\n",
       "<style scoped>\n",
       "    .dataframe tbody tr th:only-of-type {\n",
       "        vertical-align: middle;\n",
       "    }\n",
       "\n",
       "    .dataframe tbody tr th {\n",
       "        vertical-align: top;\n",
       "    }\n",
       "\n",
       "    .dataframe thead th {\n",
       "        text-align: right;\n",
       "    }\n",
       "</style>\n",
       "<table border=\"1\" class=\"dataframe\">\n",
       "  <thead>\n",
       "    <tr style=\"text-align: right;\">\n",
       "      <th></th>\n",
       "      <th>Sector_score</th>\n",
       "      <th>LOCATION_ID</th>\n",
       "      <th>PARA_A</th>\n",
       "      <th>SCORE_A</th>\n",
       "      <th>PARA_B</th>\n",
       "      <th>SCORE_B</th>\n",
       "      <th>TOTAL</th>\n",
       "      <th>numbers</th>\n",
       "      <th>Marks</th>\n",
       "      <th>Money_Value</th>\n",
       "      <th>MONEY_Marks</th>\n",
       "      <th>District</th>\n",
       "      <th>Loss</th>\n",
       "      <th>LOSS_SCORE</th>\n",
       "      <th>History</th>\n",
       "      <th>History_score</th>\n",
       "      <th>Score</th>\n",
       "      <th>Risk</th>\n",
       "    </tr>\n",
       "  </thead>\n",
       "  <tbody>\n",
       "    <tr>\n",
       "      <th>0</th>\n",
       "      <td>3.89</td>\n",
       "      <td>23</td>\n",
       "      <td>4.18</td>\n",
       "      <td>6</td>\n",
       "      <td>2.50</td>\n",
       "      <td>2</td>\n",
       "      <td>6.68</td>\n",
       "      <td>5.0</td>\n",
       "      <td>2</td>\n",
       "      <td>3.38</td>\n",
       "      <td>2</td>\n",
       "      <td>2</td>\n",
       "      <td>0</td>\n",
       "      <td>2</td>\n",
       "      <td>0</td>\n",
       "      <td>2</td>\n",
       "      <td>2.4</td>\n",
       "      <td>1</td>\n",
       "    </tr>\n",
       "    <tr>\n",
       "      <th>1</th>\n",
       "      <td>3.89</td>\n",
       "      <td>6</td>\n",
       "      <td>0.00</td>\n",
       "      <td>2</td>\n",
       "      <td>4.83</td>\n",
       "      <td>2</td>\n",
       "      <td>4.83</td>\n",
       "      <td>5.0</td>\n",
       "      <td>2</td>\n",
       "      <td>0.94</td>\n",
       "      <td>2</td>\n",
       "      <td>2</td>\n",
       "      <td>0</td>\n",
       "      <td>2</td>\n",
       "      <td>0</td>\n",
       "      <td>2</td>\n",
       "      <td>2.0</td>\n",
       "      <td>0</td>\n",
       "    </tr>\n",
       "    <tr>\n",
       "      <th>2</th>\n",
       "      <td>3.89</td>\n",
       "      <td>6</td>\n",
       "      <td>0.51</td>\n",
       "      <td>2</td>\n",
       "      <td>0.23</td>\n",
       "      <td>2</td>\n",
       "      <td>0.74</td>\n",
       "      <td>5.0</td>\n",
       "      <td>2</td>\n",
       "      <td>0.00</td>\n",
       "      <td>2</td>\n",
       "      <td>2</td>\n",
       "      <td>0</td>\n",
       "      <td>2</td>\n",
       "      <td>0</td>\n",
       "      <td>2</td>\n",
       "      <td>2.0</td>\n",
       "      <td>0</td>\n",
       "    </tr>\n",
       "    <tr>\n",
       "      <th>3</th>\n",
       "      <td>3.89</td>\n",
       "      <td>6</td>\n",
       "      <td>0.00</td>\n",
       "      <td>2</td>\n",
       "      <td>10.80</td>\n",
       "      <td>6</td>\n",
       "      <td>10.80</td>\n",
       "      <td>6.0</td>\n",
       "      <td>6</td>\n",
       "      <td>11.75</td>\n",
       "      <td>6</td>\n",
       "      <td>2</td>\n",
       "      <td>0</td>\n",
       "      <td>2</td>\n",
       "      <td>0</td>\n",
       "      <td>2</td>\n",
       "      <td>4.4</td>\n",
       "      <td>1</td>\n",
       "    </tr>\n",
       "    <tr>\n",
       "      <th>4</th>\n",
       "      <td>3.89</td>\n",
       "      <td>6</td>\n",
       "      <td>0.00</td>\n",
       "      <td>2</td>\n",
       "      <td>0.08</td>\n",
       "      <td>2</td>\n",
       "      <td>0.08</td>\n",
       "      <td>5.0</td>\n",
       "      <td>2</td>\n",
       "      <td>0.00</td>\n",
       "      <td>2</td>\n",
       "      <td>2</td>\n",
       "      <td>0</td>\n",
       "      <td>2</td>\n",
       "      <td>0</td>\n",
       "      <td>2</td>\n",
       "      <td>2.0</td>\n",
       "      <td>0</td>\n",
       "    </tr>\n",
       "  </tbody>\n",
       "</table>\n",
       "</div>"
      ],
      "text/plain": [
       "   Sector_score LOCATION_ID  PARA_A  SCORE_A  PARA_B  SCORE_B  TOTAL  numbers  \\\n",
       "0          3.89          23    4.18        6    2.50        2   6.68      5.0   \n",
       "1          3.89           6    0.00        2    4.83        2   4.83      5.0   \n",
       "2          3.89           6    0.51        2    0.23        2   0.74      5.0   \n",
       "3          3.89           6    0.00        2   10.80        6  10.80      6.0   \n",
       "4          3.89           6    0.00        2    0.08        2   0.08      5.0   \n",
       "\n",
       "   Marks  Money_Value  MONEY_Marks  District  Loss  LOSS_SCORE  History  \\\n",
       "0      2         3.38            2         2     0           2        0   \n",
       "1      2         0.94            2         2     0           2        0   \n",
       "2      2         0.00            2         2     0           2        0   \n",
       "3      6        11.75            6         2     0           2        0   \n",
       "4      2         0.00            2         2     0           2        0   \n",
       "\n",
       "   History_score  Score  Risk  \n",
       "0              2    2.4     1  \n",
       "1              2    2.0     0  \n",
       "2              2    2.0     0  \n",
       "3              2    4.4     1  \n",
       "4              2    2.0     0  "
      ]
     },
     "execution_count": 2,
     "metadata": {},
     "output_type": "execute_result"
    }
   ],
   "source": [
    "trial=pd.read_csv(\"trial.csv\")\n",
    "trial.head()"
   ]
  },
  {
   "cell_type": "code",
   "execution_count": 3,
   "metadata": {},
   "outputs": [
    {
     "name": "stdout",
     "output_type": "stream",
     "text": [
      "<class 'pandas.core.frame.DataFrame'>\n",
      "RangeIndex: 776 entries, 0 to 775\n",
      "Data columns (total 18 columns):\n",
      "Sector_score     776 non-null float64\n",
      "LOCATION_ID      776 non-null object\n",
      "PARA_A           776 non-null float64\n",
      "SCORE_A          776 non-null int64\n",
      "PARA_B           776 non-null float64\n",
      "SCORE_B          776 non-null int64\n",
      "TOTAL            776 non-null float64\n",
      "numbers          776 non-null float64\n",
      "Marks            776 non-null int64\n",
      "Money_Value      775 non-null float64\n",
      "MONEY_Marks      776 non-null int64\n",
      "District         776 non-null int64\n",
      "Loss             776 non-null int64\n",
      "LOSS_SCORE       776 non-null int64\n",
      "History          776 non-null int64\n",
      "History_score    776 non-null int64\n",
      "Score            776 non-null float64\n",
      "Risk             776 non-null int64\n",
      "dtypes: float64(7), int64(10), object(1)\n",
      "memory usage: 109.2+ KB\n"
     ]
    }
   ],
   "source": [
    "trial.info() "
   ]
  },
  {
   "cell_type": "code",
   "execution_count": 4,
   "metadata": {},
   "outputs": [
    {
     "data": {
      "text/html": [
       "<div>\n",
       "<style scoped>\n",
       "    .dataframe tbody tr th:only-of-type {\n",
       "        vertical-align: middle;\n",
       "    }\n",
       "\n",
       "    .dataframe tbody tr th {\n",
       "        vertical-align: top;\n",
       "    }\n",
       "\n",
       "    .dataframe thead th {\n",
       "        text-align: right;\n",
       "    }\n",
       "</style>\n",
       "<table border=\"1\" class=\"dataframe\">\n",
       "  <thead>\n",
       "    <tr style=\"text-align: right;\">\n",
       "      <th></th>\n",
       "      <th>Sector_score</th>\n",
       "      <th>LOCATION_ID</th>\n",
       "      <th>PARA_A</th>\n",
       "      <th>SCORE_A</th>\n",
       "      <th>PARA_B</th>\n",
       "      <th>SCORE_B</th>\n",
       "      <th>TOTAL</th>\n",
       "      <th>numbers</th>\n",
       "      <th>Marks</th>\n",
       "      <th>Money_Value</th>\n",
       "      <th>MONEY_Marks</th>\n",
       "      <th>District</th>\n",
       "      <th>Loss</th>\n",
       "      <th>LOSS_SCORE</th>\n",
       "      <th>History</th>\n",
       "      <th>History_score</th>\n",
       "      <th>Score</th>\n",
       "      <th>Risk</th>\n",
       "    </tr>\n",
       "  </thead>\n",
       "  <tbody>\n",
       "    <tr>\n",
       "      <th>642</th>\n",
       "      <td>55.57</td>\n",
       "      <td>4</td>\n",
       "      <td>0.23</td>\n",
       "      <td>2</td>\n",
       "      <td>0.0</td>\n",
       "      <td>2</td>\n",
       "      <td>0.23</td>\n",
       "      <td>5.0</td>\n",
       "      <td>2</td>\n",
       "      <td>NaN</td>\n",
       "      <td>2</td>\n",
       "      <td>2</td>\n",
       "      <td>0</td>\n",
       "      <td>2</td>\n",
       "      <td>0</td>\n",
       "      <td>2</td>\n",
       "      <td>2.0</td>\n",
       "      <td>0</td>\n",
       "    </tr>\n",
       "  </tbody>\n",
       "</table>\n",
       "</div>"
      ],
      "text/plain": [
       "     Sector_score LOCATION_ID  PARA_A  SCORE_A  PARA_B  SCORE_B  TOTAL  \\\n",
       "642         55.57           4    0.23        2     0.0        2   0.23   \n",
       "\n",
       "     numbers  Marks  Money_Value  MONEY_Marks  District  Loss  LOSS_SCORE  \\\n",
       "642      5.0      2          NaN            2         2     0           2   \n",
       "\n",
       "     History  History_score  Score  Risk  \n",
       "642        0              2    2.0     0  "
      ]
     },
     "execution_count": 4,
     "metadata": {},
     "output_type": "execute_result"
    }
   ],
   "source": [
    "trial[trial['Money_Value'].isnull()]"
   ]
  },
  {
   "cell_type": "code",
   "execution_count": 5,
   "metadata": {},
   "outputs": [
    {
     "data": {
      "text/plain": [
       "Sector_score     False\n",
       "LOCATION_ID      False\n",
       "PARA_A           False\n",
       "SCORE_A          False\n",
       "PARA_B           False\n",
       "SCORE_B          False\n",
       "TOTAL            False\n",
       "numbers          False\n",
       "Marks            False\n",
       "Money_Value       True\n",
       "MONEY_Marks      False\n",
       "District         False\n",
       "Loss             False\n",
       "LOSS_SCORE       False\n",
       "History          False\n",
       "History_score    False\n",
       "Score            False\n",
       "Risk             False\n",
       "dtype: bool"
      ]
     },
     "execution_count": 5,
     "metadata": {},
     "output_type": "execute_result"
    }
   ],
   "source": [
    "trial.isnull().any()"
   ]
  },
  {
   "cell_type": "code",
   "execution_count": 6,
   "metadata": {},
   "outputs": [
    {
     "data": {
      "text/html": [
       "<div>\n",
       "<style scoped>\n",
       "    .dataframe tbody tr th:only-of-type {\n",
       "        vertical-align: middle;\n",
       "    }\n",
       "\n",
       "    .dataframe tbody tr th {\n",
       "        vertical-align: top;\n",
       "    }\n",
       "\n",
       "    .dataframe thead th {\n",
       "        text-align: right;\n",
       "    }\n",
       "</style>\n",
       "<table border=\"1\" class=\"dataframe\">\n",
       "  <thead>\n",
       "    <tr style=\"text-align: right;\">\n",
       "      <th></th>\n",
       "      <th>Sector_score</th>\n",
       "      <th>LOCATION_ID</th>\n",
       "      <th>PARA_A</th>\n",
       "      <th>Score_A</th>\n",
       "      <th>Risk_A</th>\n",
       "      <th>PARA_B</th>\n",
       "      <th>Score_B</th>\n",
       "      <th>Risk_B</th>\n",
       "      <th>TOTAL</th>\n",
       "      <th>numbers</th>\n",
       "      <th>...</th>\n",
       "      <th>RiSk_E</th>\n",
       "      <th>History</th>\n",
       "      <th>Prob</th>\n",
       "      <th>Risk_F</th>\n",
       "      <th>Score</th>\n",
       "      <th>Inherent_Risk</th>\n",
       "      <th>CONTROL_RISK</th>\n",
       "      <th>Detection_Risk</th>\n",
       "      <th>Audit_Risk</th>\n",
       "      <th>Risk</th>\n",
       "    </tr>\n",
       "  </thead>\n",
       "  <tbody>\n",
       "    <tr>\n",
       "      <th>0</th>\n",
       "      <td>3.89</td>\n",
       "      <td>23</td>\n",
       "      <td>4.18</td>\n",
       "      <td>0.6</td>\n",
       "      <td>2.508</td>\n",
       "      <td>2.50</td>\n",
       "      <td>0.2</td>\n",
       "      <td>0.500</td>\n",
       "      <td>6.68</td>\n",
       "      <td>5.0</td>\n",
       "      <td>...</td>\n",
       "      <td>0.4</td>\n",
       "      <td>0</td>\n",
       "      <td>0.2</td>\n",
       "      <td>0.0</td>\n",
       "      <td>2.4</td>\n",
       "      <td>8.574</td>\n",
       "      <td>0.4</td>\n",
       "      <td>0.5</td>\n",
       "      <td>1.7148</td>\n",
       "      <td>1</td>\n",
       "    </tr>\n",
       "    <tr>\n",
       "      <th>1</th>\n",
       "      <td>3.89</td>\n",
       "      <td>6</td>\n",
       "      <td>0.00</td>\n",
       "      <td>0.2</td>\n",
       "      <td>0.000</td>\n",
       "      <td>4.83</td>\n",
       "      <td>0.2</td>\n",
       "      <td>0.966</td>\n",
       "      <td>4.83</td>\n",
       "      <td>5.0</td>\n",
       "      <td>...</td>\n",
       "      <td>0.4</td>\n",
       "      <td>0</td>\n",
       "      <td>0.2</td>\n",
       "      <td>0.0</td>\n",
       "      <td>2.0</td>\n",
       "      <td>2.554</td>\n",
       "      <td>0.4</td>\n",
       "      <td>0.5</td>\n",
       "      <td>0.5108</td>\n",
       "      <td>0</td>\n",
       "    </tr>\n",
       "    <tr>\n",
       "      <th>2</th>\n",
       "      <td>3.89</td>\n",
       "      <td>6</td>\n",
       "      <td>0.51</td>\n",
       "      <td>0.2</td>\n",
       "      <td>0.102</td>\n",
       "      <td>0.23</td>\n",
       "      <td>0.2</td>\n",
       "      <td>0.046</td>\n",
       "      <td>0.74</td>\n",
       "      <td>5.0</td>\n",
       "      <td>...</td>\n",
       "      <td>0.4</td>\n",
       "      <td>0</td>\n",
       "      <td>0.2</td>\n",
       "      <td>0.0</td>\n",
       "      <td>2.0</td>\n",
       "      <td>1.548</td>\n",
       "      <td>0.4</td>\n",
       "      <td>0.5</td>\n",
       "      <td>0.3096</td>\n",
       "      <td>0</td>\n",
       "    </tr>\n",
       "    <tr>\n",
       "      <th>3</th>\n",
       "      <td>3.89</td>\n",
       "      <td>6</td>\n",
       "      <td>0.00</td>\n",
       "      <td>0.2</td>\n",
       "      <td>0.000</td>\n",
       "      <td>10.80</td>\n",
       "      <td>0.6</td>\n",
       "      <td>6.480</td>\n",
       "      <td>10.80</td>\n",
       "      <td>6.0</td>\n",
       "      <td>...</td>\n",
       "      <td>0.4</td>\n",
       "      <td>0</td>\n",
       "      <td>0.2</td>\n",
       "      <td>0.0</td>\n",
       "      <td>4.4</td>\n",
       "      <td>17.530</td>\n",
       "      <td>0.4</td>\n",
       "      <td>0.5</td>\n",
       "      <td>3.5060</td>\n",
       "      <td>1</td>\n",
       "    </tr>\n",
       "    <tr>\n",
       "      <th>4</th>\n",
       "      <td>3.89</td>\n",
       "      <td>6</td>\n",
       "      <td>0.00</td>\n",
       "      <td>0.2</td>\n",
       "      <td>0.000</td>\n",
       "      <td>0.08</td>\n",
       "      <td>0.2</td>\n",
       "      <td>0.016</td>\n",
       "      <td>0.08</td>\n",
       "      <td>5.0</td>\n",
       "      <td>...</td>\n",
       "      <td>0.4</td>\n",
       "      <td>0</td>\n",
       "      <td>0.2</td>\n",
       "      <td>0.0</td>\n",
       "      <td>2.0</td>\n",
       "      <td>1.416</td>\n",
       "      <td>0.4</td>\n",
       "      <td>0.5</td>\n",
       "      <td>0.2832</td>\n",
       "      <td>0</td>\n",
       "    </tr>\n",
       "  </tbody>\n",
       "</table>\n",
       "<p>5 rows × 27 columns</p>\n",
       "</div>"
      ],
      "text/plain": [
       "   Sector_score LOCATION_ID  PARA_A  Score_A  Risk_A  PARA_B  Score_B  Risk_B  \\\n",
       "0          3.89          23    4.18      0.6   2.508    2.50      0.2   0.500   \n",
       "1          3.89           6    0.00      0.2   0.000    4.83      0.2   0.966   \n",
       "2          3.89           6    0.51      0.2   0.102    0.23      0.2   0.046   \n",
       "3          3.89           6    0.00      0.2   0.000   10.80      0.6   6.480   \n",
       "4          3.89           6    0.00      0.2   0.000    0.08      0.2   0.016   \n",
       "\n",
       "   TOTAL  numbers  ...   RiSk_E  History  Prob  Risk_F  Score  Inherent_Risk  \\\n",
       "0   6.68      5.0  ...      0.4        0   0.2     0.0    2.4          8.574   \n",
       "1   4.83      5.0  ...      0.4        0   0.2     0.0    2.0          2.554   \n",
       "2   0.74      5.0  ...      0.4        0   0.2     0.0    2.0          1.548   \n",
       "3  10.80      6.0  ...      0.4        0   0.2     0.0    4.4         17.530   \n",
       "4   0.08      5.0  ...      0.4        0   0.2     0.0    2.0          1.416   \n",
       "\n",
       "   CONTROL_RISK  Detection_Risk  Audit_Risk  Risk  \n",
       "0           0.4             0.5      1.7148     1  \n",
       "1           0.4             0.5      0.5108     0  \n",
       "2           0.4             0.5      0.3096     0  \n",
       "3           0.4             0.5      3.5060     1  \n",
       "4           0.4             0.5      0.2832     0  \n",
       "\n",
       "[5 rows x 27 columns]"
      ]
     },
     "execution_count": 6,
     "metadata": {},
     "output_type": "execute_result"
    }
   ],
   "source": [
    "audit=pd.read_csv(\"audit_risk.csv\")\n",
    "\n",
    "\n",
    "audit.head()"
   ]
  },
  {
   "cell_type": "code",
   "execution_count": 7,
   "metadata": {},
   "outputs": [
    {
     "data": {
      "text/html": [
       "<div>\n",
       "<style scoped>\n",
       "    .dataframe tbody tr th:only-of-type {\n",
       "        vertical-align: middle;\n",
       "    }\n",
       "\n",
       "    .dataframe tbody tr th {\n",
       "        vertical-align: top;\n",
       "    }\n",
       "\n",
       "    .dataframe thead th {\n",
       "        text-align: right;\n",
       "    }\n",
       "</style>\n",
       "<table border=\"1\" class=\"dataframe\">\n",
       "  <thead>\n",
       "    <tr style=\"text-align: right;\">\n",
       "      <th></th>\n",
       "      <th>Sector_score</th>\n",
       "      <th>LOCATION_ID</th>\n",
       "      <th>PARA_A</th>\n",
       "      <th>Score_A</th>\n",
       "      <th>Risk_A</th>\n",
       "      <th>PARA_B</th>\n",
       "      <th>Score_B</th>\n",
       "      <th>Risk_B</th>\n",
       "      <th>TOTAL</th>\n",
       "      <th>numbers</th>\n",
       "      <th>...</th>\n",
       "      <th>RiSk_E</th>\n",
       "      <th>History</th>\n",
       "      <th>Prob</th>\n",
       "      <th>Risk_F</th>\n",
       "      <th>Score</th>\n",
       "      <th>Inherent_Risk</th>\n",
       "      <th>CONTROL_RISK</th>\n",
       "      <th>Detection_Risk</th>\n",
       "      <th>Audit_Risk</th>\n",
       "      <th>Risk</th>\n",
       "    </tr>\n",
       "  </thead>\n",
       "  <tbody>\n",
       "    <tr>\n",
       "      <th>642</th>\n",
       "      <td>55.57</td>\n",
       "      <td>4</td>\n",
       "      <td>0.23</td>\n",
       "      <td>0.2</td>\n",
       "      <td>0.046</td>\n",
       "      <td>0.0</td>\n",
       "      <td>0.2</td>\n",
       "      <td>0.0</td>\n",
       "      <td>0.23</td>\n",
       "      <td>5.0</td>\n",
       "      <td>...</td>\n",
       "      <td>0.4</td>\n",
       "      <td>0</td>\n",
       "      <td>0.2</td>\n",
       "      <td>0.0</td>\n",
       "      <td>2.0</td>\n",
       "      <td>1.446</td>\n",
       "      <td>0.4</td>\n",
       "      <td>0.5</td>\n",
       "      <td>0.2892</td>\n",
       "      <td>0</td>\n",
       "    </tr>\n",
       "  </tbody>\n",
       "</table>\n",
       "<p>1 rows × 27 columns</p>\n",
       "</div>"
      ],
      "text/plain": [
       "     Sector_score LOCATION_ID  PARA_A  Score_A  Risk_A  PARA_B  Score_B  \\\n",
       "642         55.57           4    0.23      0.2   0.046     0.0      0.2   \n",
       "\n",
       "     Risk_B  TOTAL  numbers  ...   RiSk_E  History  Prob  Risk_F  Score  \\\n",
       "642     0.0   0.23      5.0  ...      0.4        0   0.2     0.0    2.0   \n",
       "\n",
       "     Inherent_Risk  CONTROL_RISK  Detection_Risk  Audit_Risk  Risk  \n",
       "642          1.446           0.4             0.5      0.2892     0  \n",
       "\n",
       "[1 rows x 27 columns]"
      ]
     },
     "execution_count": 7,
     "metadata": {},
     "output_type": "execute_result"
    }
   ],
   "source": [
    "audit[audit['Money_Value'].isnull()]"
   ]
  },
  {
   "cell_type": "code",
   "execution_count": 8,
   "metadata": {},
   "outputs": [
    {
     "data": {
      "text/plain": [
       "Sector_score      False\n",
       "LOCATION_ID       False\n",
       "PARA_A            False\n",
       "Score_A           False\n",
       "Risk_A            False\n",
       "PARA_B            False\n",
       "Score_B           False\n",
       "Risk_B            False\n",
       "TOTAL             False\n",
       "numbers           False\n",
       "Score_B.1         False\n",
       "Risk_C            False\n",
       "Money_Value        True\n",
       "Score_MV          False\n",
       "Risk_D            False\n",
       "District_Loss     False\n",
       "PROB              False\n",
       "RiSk_E            False\n",
       "History           False\n",
       "Prob              False\n",
       "Risk_F            False\n",
       "Score             False\n",
       "Inherent_Risk     False\n",
       "CONTROL_RISK      False\n",
       "Detection_Risk    False\n",
       "Audit_Risk        False\n",
       "Risk              False\n",
       "dtype: bool"
      ]
     },
     "execution_count": 8,
     "metadata": {},
     "output_type": "execute_result"
    }
   ],
   "source": [
    "audit.isnull().any()"
   ]
  },
  {
   "cell_type": "code",
   "execution_count": 9,
   "metadata": {},
   "outputs": [
    {
     "data": {
      "text/plain": [
       "['Sector_score',\n",
       " 'LOCATION_ID',\n",
       " 'PARA_A',\n",
       " 'PARA_B',\n",
       " 'TOTAL',\n",
       " 'numbers',\n",
       " 'Money_Value',\n",
       " 'History',\n",
       " 'Score',\n",
       " 'Risk']"
      ]
     },
     "execution_count": 9,
     "metadata": {},
     "output_type": "execute_result"
    }
   ],
   "source": [
    "audit_cols = list(audit.columns.values)\n",
    "\n",
    "trial_cols = list(trial.columns.values)\n",
    "\n",
    "\n",
    "common_cols = [i for i in audit_cols if i in trial_cols]\n",
    "common_cols    "
   ]
  },
  {
   "cell_type": "code",
   "execution_count": 10,
   "metadata": {},
   "outputs": [
    {
     "data": {
      "text/html": [
       "<div>\n",
       "<style scoped>\n",
       "    .dataframe tbody tr th:only-of-type {\n",
       "        vertical-align: middle;\n",
       "    }\n",
       "\n",
       "    .dataframe tbody tr th {\n",
       "        vertical-align: top;\n",
       "    }\n",
       "\n",
       "    .dataframe thead th {\n",
       "        text-align: right;\n",
       "    }\n",
       "</style>\n",
       "<table border=\"1\" class=\"dataframe\">\n",
       "  <thead>\n",
       "    <tr style=\"text-align: right;\">\n",
       "      <th></th>\n",
       "      <th>Score_A</th>\n",
       "      <th>Score_B</th>\n",
       "      <th>SCORE_A</th>\n",
       "      <th>SCORE_B</th>\n",
       "    </tr>\n",
       "  </thead>\n",
       "  <tbody>\n",
       "    <tr>\n",
       "      <th>0</th>\n",
       "      <td>0.6</td>\n",
       "      <td>0.2</td>\n",
       "      <td>6</td>\n",
       "      <td>2</td>\n",
       "    </tr>\n",
       "    <tr>\n",
       "      <th>1</th>\n",
       "      <td>0.2</td>\n",
       "      <td>0.2</td>\n",
       "      <td>2</td>\n",
       "      <td>2</td>\n",
       "    </tr>\n",
       "    <tr>\n",
       "      <th>2</th>\n",
       "      <td>0.2</td>\n",
       "      <td>0.2</td>\n",
       "      <td>2</td>\n",
       "      <td>2</td>\n",
       "    </tr>\n",
       "    <tr>\n",
       "      <th>3</th>\n",
       "      <td>0.2</td>\n",
       "      <td>0.6</td>\n",
       "      <td>2</td>\n",
       "      <td>6</td>\n",
       "    </tr>\n",
       "    <tr>\n",
       "      <th>4</th>\n",
       "      <td>0.2</td>\n",
       "      <td>0.2</td>\n",
       "      <td>2</td>\n",
       "      <td>2</td>\n",
       "    </tr>\n",
       "  </tbody>\n",
       "</table>\n",
       "</div>"
      ],
      "text/plain": [
       "   Score_A  Score_B  SCORE_A  SCORE_B\n",
       "0      0.6      0.2        6        2\n",
       "1      0.2      0.2        2        2\n",
       "2      0.2      0.2        2        2\n",
       "3      0.2      0.6        2        6\n",
       "4      0.2      0.2        2        2"
      ]
     },
     "execution_count": 10,
     "metadata": {},
     "output_type": "execute_result"
    }
   ],
   "source": [
    "dfNew = pd.merge(audit, trial, left_index=True, right_index=True, on=common_cols)\n",
    "\n",
    "dfNew[:5][['Score_A', 'Score_B', 'SCORE_A', 'SCORE_B']]"
   ]
  },
  {
   "cell_type": "code",
   "execution_count": 11,
   "metadata": {},
   "outputs": [
    {
     "data": {
      "text/plain": [
       "array(['Sector_score', 'LOCATION_ID', 'PARA_A', 'Score_A', 'Risk_A',\n",
       "       'PARA_B', 'Score_B', 'Risk_B', 'TOTAL', 'numbers', 'Score_B.1',\n",
       "       'Risk_C', 'Money_Value', 'Score_MV', 'Risk_D', 'District_Loss',\n",
       "       'PROB', 'RiSk_E', 'History', 'Prob', 'Risk_F', 'Score',\n",
       "       'Inherent_Risk', 'CONTROL_RISK', 'Detection_Risk', 'Audit_Risk',\n",
       "       'Risk', 'Marks', 'MONEY_Marks', 'District', 'Loss', 'LOSS_SCORE',\n",
       "       'History_score'], dtype=object)"
      ]
     },
     "execution_count": 11,
     "metadata": {},
     "output_type": "execute_result"
    }
   ],
   "source": [
    "dfNew = dfNew.drop(['SCORE_A', 'SCORE_B'], axis = 1)\n",
    "dfNew.columns.values "
   ]
  },
  {
   "cell_type": "code",
   "execution_count": 12,
   "metadata": {},
   "outputs": [
    {
     "data": {
      "text/html": [
       "<div>\n",
       "<style scoped>\n",
       "    .dataframe tbody tr th:only-of-type {\n",
       "        vertical-align: middle;\n",
       "    }\n",
       "\n",
       "    .dataframe tbody tr th {\n",
       "        vertical-align: top;\n",
       "    }\n",
       "\n",
       "    .dataframe thead th {\n",
       "        text-align: right;\n",
       "    }\n",
       "</style>\n",
       "<table border=\"1\" class=\"dataframe\">\n",
       "  <thead>\n",
       "    <tr style=\"text-align: right;\">\n",
       "      <th></th>\n",
       "      <th>Sector_score</th>\n",
       "      <th>LOCATION_ID</th>\n",
       "      <th>PARA_A</th>\n",
       "      <th>Score_A</th>\n",
       "      <th>Risk_A</th>\n",
       "      <th>PARA_B</th>\n",
       "      <th>Score_B</th>\n",
       "      <th>Risk_B</th>\n",
       "      <th>TOTAL</th>\n",
       "      <th>numbers</th>\n",
       "      <th>...</th>\n",
       "      <th>CONTROL_RISK</th>\n",
       "      <th>Detection_Risk</th>\n",
       "      <th>Audit_Risk</th>\n",
       "      <th>Risk</th>\n",
       "      <th>Marks</th>\n",
       "      <th>MONEY_Marks</th>\n",
       "      <th>District</th>\n",
       "      <th>Loss</th>\n",
       "      <th>LOSS_SCORE</th>\n",
       "      <th>History_score</th>\n",
       "    </tr>\n",
       "  </thead>\n",
       "  <tbody>\n",
       "    <tr>\n",
       "      <th>642</th>\n",
       "      <td>55.57</td>\n",
       "      <td>4</td>\n",
       "      <td>0.23</td>\n",
       "      <td>0.2</td>\n",
       "      <td>0.046</td>\n",
       "      <td>0.0</td>\n",
       "      <td>0.2</td>\n",
       "      <td>0.0</td>\n",
       "      <td>0.23</td>\n",
       "      <td>5.0</td>\n",
       "      <td>...</td>\n",
       "      <td>0.4</td>\n",
       "      <td>0.5</td>\n",
       "      <td>0.2892</td>\n",
       "      <td>0</td>\n",
       "      <td>2</td>\n",
       "      <td>2</td>\n",
       "      <td>2</td>\n",
       "      <td>0</td>\n",
       "      <td>2</td>\n",
       "      <td>2</td>\n",
       "    </tr>\n",
       "  </tbody>\n",
       "</table>\n",
       "<p>1 rows × 33 columns</p>\n",
       "</div>"
      ],
      "text/plain": [
       "     Sector_score LOCATION_ID  PARA_A  Score_A  Risk_A  PARA_B  Score_B  \\\n",
       "642         55.57           4    0.23      0.2   0.046     0.0      0.2   \n",
       "\n",
       "     Risk_B  TOTAL  numbers      ...        CONTROL_RISK  Detection_Risk  \\\n",
       "642     0.0   0.23      5.0      ...                 0.4             0.5   \n",
       "\n",
       "     Audit_Risk  Risk  Marks  MONEY_Marks  District  Loss  LOSS_SCORE  \\\n",
       "642      0.2892     0      2            2         2     0           2   \n",
       "\n",
       "     History_score  \n",
       "642              2  \n",
       "\n",
       "[1 rows x 33 columns]"
      ]
     },
     "execution_count": 12,
     "metadata": {},
     "output_type": "execute_result"
    }
   ],
   "source": [
    "dfNew[dfNew['Money_Value'].isnull()]"
   ]
  },
  {
   "cell_type": "code",
   "execution_count": 13,
   "metadata": {},
   "outputs": [
    {
     "name": "stdout",
     "output_type": "stream",
     "text": [
      "<class 'pandas.core.frame.DataFrame'>\n",
      "RangeIndex: 776 entries, 0 to 775\n",
      "Data columns (total 33 columns):\n",
      "Sector_score      776 non-null float64\n",
      "LOCATION_ID       776 non-null object\n",
      "PARA_A            776 non-null float64\n",
      "Score_A           776 non-null float64\n",
      "Risk_A            776 non-null float64\n",
      "PARA_B            776 non-null float64\n",
      "Score_B           776 non-null float64\n",
      "Risk_B            776 non-null float64\n",
      "TOTAL             776 non-null float64\n",
      "numbers           776 non-null float64\n",
      "Score_B.1         776 non-null float64\n",
      "Risk_C            776 non-null float64\n",
      "Money_Value       776 non-null float64\n",
      "Score_MV          776 non-null float64\n",
      "Risk_D            776 non-null float64\n",
      "District_Loss     776 non-null int64\n",
      "PROB              776 non-null float64\n",
      "RiSk_E            776 non-null float64\n",
      "History           776 non-null int64\n",
      "Prob              776 non-null float64\n",
      "Risk_F            776 non-null float64\n",
      "Score             776 non-null float64\n",
      "Inherent_Risk     776 non-null float64\n",
      "CONTROL_RISK      776 non-null float64\n",
      "Detection_Risk    776 non-null float64\n",
      "Audit_Risk        776 non-null float64\n",
      "Risk              776 non-null int64\n",
      "Marks             776 non-null int64\n",
      "MONEY_Marks       776 non-null int64\n",
      "District          776 non-null int64\n",
      "Loss              776 non-null int64\n",
      "LOSS_SCORE        776 non-null int64\n",
      "History_score     776 non-null int64\n",
      "dtypes: float64(23), int64(9), object(1)\n",
      "memory usage: 200.1+ KB\n"
     ]
    }
   ],
   "source": [
    "dfNew.at[642,'Money_Value'] = 0   #fill in 0 with null \"money value\"\n",
    "\n",
    "\n",
    "dfNew[dfNew['Money_Value'].isnull()]\n",
    "\n",
    "\n",
    "dfNew.info()"
   ]
  },
  {
   "cell_type": "code",
   "execution_count": 14,
   "metadata": {},
   "outputs": [
    {
     "data": {
      "text/plain": [
       "0      23\n",
       "1       6\n",
       "2       6\n",
       "3       6\n",
       "4       6\n",
       "5       6\n",
       "6       7\n",
       "7       8\n",
       "8       8\n",
       "9       8\n",
       "10      8\n",
       "11      8\n",
       "12      8\n",
       "13      8\n",
       "14      8\n",
       "15     13\n",
       "16     37\n",
       "17     37\n",
       "18     37\n",
       "19     37\n",
       "20     24\n",
       "21      3\n",
       "22      3\n",
       "23      3\n",
       "24      4\n",
       "25      4\n",
       "26      4\n",
       "27     14\n",
       "28     14\n",
       "29     37\n",
       "       ..\n",
       "746    13\n",
       "747    13\n",
       "748    13\n",
       "749    13\n",
       "750    13\n",
       "751    13\n",
       "752    13\n",
       "753    21\n",
       "754    18\n",
       "755    21\n",
       "756    25\n",
       "757    32\n",
       "758    22\n",
       "759    14\n",
       "760    12\n",
       "761    12\n",
       "762    14\n",
       "763    36\n",
       "764    14\n",
       "765    22\n",
       "766     8\n",
       "767    18\n",
       "768     9\n",
       "769    16\n",
       "770    18\n",
       "771     9\n",
       "772    16\n",
       "773    14\n",
       "774    18\n",
       "775    15\n",
       "Name: LOCATION_ID, Length: 776, dtype: int64"
      ]
     },
     "execution_count": 14,
     "metadata": {},
     "output_type": "execute_result"
    }
   ],
   "source": [
    "dfNew.LOCATION_ID.replace(['LOHARU', 'NUH', 'SAFIDON'], ['45', '46', '47'], inplace=True) \n",
    "\n",
    "\n",
    "#dfNew['LOCATION_ID'].unique()\n",
    "\n",
    "\n",
    "dfNew['LOCATION_ID'].astype(np.int64)"
   ]
  },
  {
   "cell_type": "code",
   "execution_count": 15,
   "metadata": {},
   "outputs": [
    {
     "name": "stdout",
     "output_type": "stream",
     "text": [
      "<class 'pandas.core.frame.DataFrame'>\n",
      "RangeIndex: 776 entries, 0 to 775\n",
      "Data columns (total 33 columns):\n",
      "Sector_score      776 non-null float64\n",
      "LOCATION_ID       776 non-null object\n",
      "PARA_A            776 non-null float64\n",
      "Score_A           776 non-null float64\n",
      "Risk_A            776 non-null float64\n",
      "PARA_B            776 non-null float64\n",
      "Score_B           776 non-null float64\n",
      "Risk_B            776 non-null float64\n",
      "TOTAL             776 non-null float64\n",
      "numbers           776 non-null float64\n",
      "Score_B.1         776 non-null float64\n",
      "Risk_C            776 non-null float64\n",
      "Money_Value       776 non-null float64\n",
      "Score_MV          776 non-null float64\n",
      "Risk_D            776 non-null float64\n",
      "District_Loss     776 non-null int64\n",
      "PROB              776 non-null float64\n",
      "RiSk_E            776 non-null float64\n",
      "History           776 non-null int64\n",
      "Prob              776 non-null float64\n",
      "Risk_F            776 non-null float64\n",
      "Score             776 non-null float64\n",
      "Inherent_Risk     776 non-null float64\n",
      "CONTROL_RISK      776 non-null float64\n",
      "Detection_Risk    776 non-null float64\n",
      "Audit_Risk        776 non-null float64\n",
      "Risk              776 non-null int64\n",
      "Marks             776 non-null int64\n",
      "MONEY_Marks       776 non-null int64\n",
      "District          776 non-null int64\n",
      "Loss              776 non-null int64\n",
      "LOSS_SCORE        776 non-null int64\n",
      "History_score     776 non-null int64\n",
      "dtypes: float64(23), int64(9), object(1)\n",
      "memory usage: 200.1+ KB\n"
     ]
    }
   ],
   "source": [
    "dfNew.info()"
   ]
  },
  {
   "cell_type": "code",
   "execution_count": 16,
   "metadata": {},
   "outputs": [
    {
     "data": {
      "text/plain": [
       "array(['Sector_score', 'LOCATION_ID', 'PARA_A', 'Score_A', 'Risk_A',\n",
       "       'PARA_B', 'Score_B', 'Risk_B', 'TOTAL', 'numbers', 'Score_B.1',\n",
       "       'Risk_C', 'Money_Value', 'Score_MV', 'Risk_D', 'District_Loss',\n",
       "       'PROB', 'RiSk_E', 'History', 'Prob', 'Risk_F', 'Score',\n",
       "       'Inherent_Risk', 'CONTROL_RISK', 'Detection_Risk', 'Audit_Risk',\n",
       "       'Risk', 'Marks', 'MONEY_Marks', 'District', 'Loss', 'LOSS_SCORE',\n",
       "       'History_score'], dtype=object)"
      ]
     },
     "execution_count": 16,
     "metadata": {},
     "output_type": "execute_result"
    }
   ],
   "source": [
    "dfNew.columns.values"
   ]
  },
  {
   "cell_type": "code",
   "execution_count": 17,
   "metadata": {},
   "outputs": [],
   "source": [
    "#regression, audit risk as target\n",
    "X = dfNew.loc[:, ~dfNew.columns.isin(['Audit_Risk', 'Risk'])]\n",
    "y_r = dfNew['Audit_Risk']\n",
    "\n",
    "#classfication, risk as target\n",
    "y_c = dfNew['Risk']"
   ]
  },
  {
   "cell_type": "code",
   "execution_count": 71,
   "metadata": {},
   "outputs": [],
   "source": [
    "from sklearn.model_selection import train_test_split\n",
    "from sklearn.preprocessing import StandardScaler\n",
    "X_train_org, X_test_org, y_train, y_test = train_test_split(X, y_r, random_state = 0)\n",
    "\n",
    "\n",
    "scaler = StandardScaler()\n",
    "scaler.fit(X_train_org)\n",
    "X_train = scaler.transform(X_train_org)\n",
    "X_test = scaler.transform(X_test_org)"
   ]
  },
  {
   "cell_type": "markdown",
   "metadata": {},
   "source": [
    "## Regression Task:\n",
    "KNN repressor, linear regression, Ridge, Lasso, polynomial regression, SVM both simple and with kernels."
   ]
  },
  {
   "cell_type": "markdown",
   "metadata": {},
   "source": [
    "#### Apply any two models with bagging and any two models with pasting.\n",
    "code done"
   ]
  },
  {
   "cell_type": "code",
   "execution_count": 66,
   "metadata": {},
   "outputs": [
    {
     "data": {
      "text/plain": [
       "0.16893645854214157"
      ]
     },
     "execution_count": 66,
     "metadata": {},
     "output_type": "execute_result"
    }
   ],
   "source": [
    "from sklearn.tree import DecisionTreeRegressor\n",
    "\n",
    "dt_clf = DecisionTreeRegressor(random_state=0)\n",
    "\n",
    "grid_params = {\n",
    "    'n_estimators':[10,25,50,100],\n",
    "    'max_samples':[50,100,150],\n",
    "    \n",
    "}\n",
    "\n",
    "bag_clf1 = BaggingRegressor(dt_clf, bootstrap=True, random_state=0)\n",
    "\n",
    "gbag_clf1 = GridSearchCV(bag_clf1, param_grid = grid_params, cv=5)\n",
    "\n",
    "gbag_clf1.fit(X_train,y_train)\n",
    "\n",
    "gbag_clf1.score(X_test,y_test)"
   ]
  },
  {
   "cell_type": "code",
   "execution_count": 92,
   "metadata": {},
   "outputs": [
    {
     "data": {
      "text/plain": [
       "0.49965955985864541"
      ]
     },
     "execution_count": 92,
     "metadata": {},
     "output_type": "execute_result"
    }
   ],
   "source": [
    "lrc_clf = LogisticRegression(solver= 'lbfgs')\n",
    "\n",
    "grid_params = {\n",
    "    'n_estimators':[10,25,50,100],\n",
    "    'max_samples':[50,100,150],\n",
    "    \n",
    "}\n",
    "\n",
    "\n",
    "bag_clf2 = BaggingRegressor(lrc_clf, bootstrap=True, random_state=0)\n",
    "\n",
    "gbag_clf2 = GridSearchCV(bag_clf2, param_grid = grid_params, cv=5)\n",
    "\n",
    "gbag_clf2.fit(X_train,y_train.astype('int'))\n",
    "\n",
    "gbag_clf2.score(X_test,y_test)"
   ]
  },
  {
   "cell_type": "code",
   "execution_count": 93,
   "metadata": {},
   "outputs": [
    {
     "data": {
      "text/plain": [
       "0.49573968560073944"
      ]
     },
     "execution_count": 93,
     "metadata": {},
     "output_type": "execute_result"
    }
   ],
   "source": [
    "lrc_clf = LogisticRegression(solver= 'lbfgs')\n",
    "\n",
    "grid_params = {\n",
    "    'n_estimators':[10,25,50,100],\n",
    "    'max_samples':[50,100,150],\n",
    "    \n",
    "}\n",
    "\n",
    "\n",
    "bag_clf2 = BaggingRegressor(lrc_clf, bootstrap=False, random_state=0)\n",
    "\n",
    "gbag_clf2 = GridSearchCV(bag_clf2, param_grid = grid_params, cv=5)\n",
    "\n",
    "gbag_clf2.fit(X_train,y_train.astype('int'))\n",
    "\n",
    "modelBL.score(X_test,y_test)"
   ]
  },
  {
   "cell_type": "code",
   "execution_count": 94,
   "metadata": {},
   "outputs": [
    {
     "data": {
      "text/plain": [
       "0.15687165927759672"
      ]
     },
     "execution_count": 94,
     "metadata": {},
     "output_type": "execute_result"
    }
   ],
   "source": [
    "dt_clf = DecisionTreeRegressor(random_state=0)\n",
    "\n",
    "grid_params = {\n",
    "    'n_estimators':[10,25,50,100],\n",
    "    'max_samples':[50,100,150],\n",
    "    \n",
    "}\n",
    "\n",
    "bag_clf1 = BaggingRegressor(dt_clf, bootstrap=False, random_state=0)\n",
    "\n",
    "gbag_clf1 = GridSearchCV(bag_clf1, param_grid = grid_params, cv=5)\n",
    "\n",
    "gbag_clf1.fit(X_train,y_train)\n",
    "\n",
    "gbag_clf1.score(X_test,y_test)"
   ]
  },
  {
   "cell_type": "markdown",
   "metadata": {},
   "source": [
    "#### Apply any two models with adaboost boosting\n",
    "code done"
   ]
  },
  {
   "cell_type": "code",
   "execution_count": 25,
   "metadata": {},
   "outputs": [
    {
     "data": {
      "text/plain": [
       "0.043612575771904249"
      ]
     },
     "execution_count": 25,
     "metadata": {},
     "output_type": "execute_result"
    }
   ],
   "source": [
    "dt_clf = DecisionTreeRegressor(max_depth = 1, random_state=0)\n",
    "\n",
    "grid_params = {\n",
    "    'n_estimators':[10,25,50],\n",
    "    'learning_rate':[0.01,0.05,0.1,0.5,1],\n",
    "    \n",
    "}\n",
    "\n",
    "ada_clf1 = AdaBoostRegressor(dt_clf,  learning_rate=0.5, random_state=0)\n",
    "\n",
    "gada_clf1 = GridSearchCV(ada_clf1, param_grid = grid_params, cv=5)\n",
    "\n",
    "gada_clf1.fit(X_train,y_train)\n",
    "gada_clf1.score(X_test,y_test)\n"
   ]
  },
  {
   "cell_type": "code",
   "execution_count": 27,
   "metadata": {},
   "outputs": [
    {
     "data": {
      "text/plain": [
       "0.039541411593670854"
      ]
     },
     "execution_count": 27,
     "metadata": {},
     "output_type": "execute_result"
    }
   ],
   "source": [
    "lrc_clf = LogisticRegression(solver= 'lbfgs')\n",
    "\n",
    "grid_params = {\n",
    "    'n_estimators':[10,25,50,100],\n",
    "    'learning_rate':[0.1,0.5,1],\n",
    "    \n",
    "}\n",
    "\n",
    "ada_clf2 = AdaBoostRegressor(dt_clf, learning_rate=0.5, random_state=0)\n",
    "\n",
    "gada_clf2 = GridSearchCV(ada_clf2, param_grid = grid_params, cv=5)\n",
    "\n",
    "gada_clf2.fit(X_train,y_train)\n",
    "gada_clf2.score(X_test,y_test)"
   ]
  },
  {
   "cell_type": "markdown",
   "metadata": {},
   "source": [
    "#### Apply one model with gradient boosting\n",
    "code done"
   ]
  },
  {
   "cell_type": "code",
   "execution_count": 29,
   "metadata": {},
   "outputs": [
    {
     "data": {
      "text/plain": [
       "0.25879699859432648"
      ]
     },
     "execution_count": 29,
     "metadata": {},
     "output_type": "execute_result"
    }
   ],
   "source": [
    "grid_params = {\n",
    "    'n_estimators':[10,25,50,100],\n",
    "    'learning_rate':[0.1,0.5,1],\n",
    "    'max_depth':[1,2,3]\n",
    "    \n",
    "}\n",
    "\n",
    "gbrt_clf = GradientBoostingRegressor(random_state=0)\n",
    "\n",
    "ggbrt_clf = GridSearchCV(gbrt_clf, param_grid = grid_params, cv=5)\n",
    "\n",
    "ggbrt_clf.fit(X_train,y_train)\n",
    "\n",
    "ggbrt_clf.score(X_test,y_test)\n"
   ]
  },
  {
   "cell_type": "markdown",
   "metadata": {},
   "source": [
    "#### Apply PCA on data and then apply all the models in project 1 again on data you get from PCA. Compare your results with results in project 2. You don't need to apply all the models twice. Just copy the result table from project 1, prepare similar table for all the models after PCA and compare both tables. Does PCA help in getting better results?\n"
   ]
  },
  {
   "cell_type": "code",
   "execution_count": 26,
   "metadata": {},
   "outputs": [],
   "source": [
    "regression_model_Scores = []"
   ]
  },
  {
   "cell_type": "code",
   "execution_count": 27,
   "metadata": {},
   "outputs": [],
   "source": [
    "def printGSR (regression_model_def) :\n",
    "    print(\"Best CV result: {}\".format(regression_model_def.best_score_))\n",
    "    print(\"Best parameters: {}\".format(regression_model_def.best_params_))\n",
    "    print(\"Training Score: {}\".format(regression_model_def.score(X_train, y_train)))\n",
    "    print(\"Testing Score: {}\".format(regression_model_def.score(X_test, y_test)))"
   ]
  },
  {
   "cell_type": "code",
   "execution_count": 28,
   "metadata": {},
   "outputs": [],
   "source": [
    "PCA_regression_model_Scores = []"
   ]
  },
  {
   "cell_type": "code",
   "execution_count": 29,
   "metadata": {},
   "outputs": [],
   "source": [
    "def printGSR (pca_model_def) :\n",
    "    print(\"PCA Training Score: {}\".format(pca_model_def.score(X_train_reduced, y_train)))\n",
    "    print(\"PCA Testing Score: {}\".format(pca_model_def.score(X_test_reduced, y_test)))"
   ]
  },
  {
   "cell_type": "code",
   "execution_count": 30,
   "metadata": {},
   "outputs": [
    {
     "data": {
      "text/plain": [
       "10"
      ]
     },
     "execution_count": 30,
     "metadata": {},
     "output_type": "execute_result"
    }
   ],
   "source": [
    "from sklearn.decomposition import PCA\n",
    "from sklearn.model_selection import GridSearchCV\n",
    "\n",
    "#create model\n",
    "pca = PCA()\n",
    "\n",
    "#train pca model\n",
    "pca.fit(X_train)\n",
    "\n",
    "cumsum = np.cumsum(pca.explained_variance_ratio_)\n",
    "d = np.argmax(cumsum >= 0.95) + 1\n",
    "d"
   ]
  },
  {
   "cell_type": "code",
   "execution_count": 31,
   "metadata": {},
   "outputs": [
    {
     "data": {
      "text/plain": [
       "(582, 31)"
      ]
     },
     "execution_count": 31,
     "metadata": {},
     "output_type": "execute_result"
    }
   ],
   "source": [
    "X_train.shape"
   ]
  },
  {
   "cell_type": "code",
   "execution_count": 32,
   "metadata": {},
   "outputs": [
    {
     "name": "stdout",
     "output_type": "stream",
     "text": [
      "[3.23990576e-01 1.42630917e-01 1.12251739e-01 9.81393084e-02\n",
      " 9.04042259e-02 6.53767900e-02 3.68796543e-02 3.40323836e-02\n",
      " 2.93596420e-02 2.49126983e-02 1.58849447e-02 1.23437414e-02\n",
      " 1.06118483e-02 1.70875484e-03 7.84671041e-04 4.86241940e-04\n",
      " 1.20104109e-04 2.99036496e-05 2.40695133e-05 1.76533898e-05\n",
      " 7.10435722e-06 2.81896115e-06 2.08867093e-07 4.71973897e-33\n",
      " 2.53731041e-33 2.53731041e-33 2.53731041e-33 2.53731041e-33\n",
      " 2.53731041e-33 2.53731041e-33 2.53731041e-33]\n"
     ]
    }
   ],
   "source": [
    "print(pca.explained_variance_ratio_)"
   ]
  },
  {
   "cell_type": "code",
   "execution_count": 33,
   "metadata": {},
   "outputs": [
    {
     "data": {
      "text/plain": [
       "PCA(copy=True, iterated_power='auto', n_components=9, random_state=None,\n",
       "  svd_solver='auto', tol=0.0, whiten=False)"
      ]
     },
     "execution_count": 33,
     "metadata": {},
     "output_type": "execute_result"
    }
   ],
   "source": [
    "pca = PCA(n_components=9)\n",
    "pca.fit(X_train)"
   ]
  },
  {
   "cell_type": "code",
   "execution_count": 34,
   "metadata": {},
   "outputs": [],
   "source": [
    "#transforming X_train and X_test\n",
    "X_train_reduced = pca.transform(X_train)\n",
    "X_test_reduced = pca.transform(X_test)"
   ]
  },
  {
   "cell_type": "code",
   "execution_count": 35,
   "metadata": {},
   "outputs": [
    {
     "name": "stdout",
     "output_type": "stream",
     "text": [
      "Train score: 1.0000\n",
      "Test score: 0.1386\n"
     ]
    }
   ],
   "source": [
    "#knn\n",
    "from sklearn.neighbors import KNeighborsRegressor\n",
    "knn = KNeighborsRegressor(1)   \n",
    "knn.fit(X_train, y_train)        \n",
    "print('Train score: {:.4f}'.format(knn.score(X_train, y_train)))\n",
    "print('Test score: {:.4f}'.format(knn.score(X_test, y_test)))\n",
    "\n",
    "regression_model_Scores.append({'Model Type' : 'Regression',\n",
    "                    'Model Name' : 'KNN Regressor',\n",
    "                    'Parameters' : 'k=1',\n",
    "                    'Training score': knn.score(X_train, y_train),\n",
    "                    'Test Score':knn.score(X_test, y_test)})"
   ]
  },
  {
   "cell_type": "code",
   "execution_count": 36,
   "metadata": {},
   "outputs": [
    {
     "name": "stdout",
     "output_type": "stream",
     "text": [
      "Train score: 1.0000\n",
      "Test score: 0.1385\n"
     ]
    }
   ],
   "source": [
    "#PCA knn\n",
    "knn = KNeighborsRegressor(1)   \n",
    "knn.fit(X_train_reduced, y_train)        \n",
    "print('Train score: {:.4f}'.format(knn.score(X_train_reduced, y_train)))\n",
    "print('Test score: {:.4f}'.format(knn.score(X_test_reduced, y_test)))\n",
    "\n",
    "PCA_regression_model_Scores.append({'Model Type' : 'PCA',\n",
    "                    'Model Name' : 'KNN Regressor',\n",
    "                    'Parameters' : 'k=1',          \n",
    "                    'Training score': knn.score(X_train_reduced, y_train),\n",
    "                    'Test Score':knn.score(X_test_reduced, y_test)})"
   ]
  },
  {
   "cell_type": "code",
   "execution_count": 37,
   "metadata": {},
   "outputs": [
    {
     "name": "stdout",
     "output_type": "stream",
     "text": [
      "Train scores: 0.9302\n",
      "Test scores: 0.4957\n"
     ]
    }
   ],
   "source": [
    "#linear regression\n",
    "lreg = LinearRegression()\n",
    "lreg.fit(X_train, y_train)\n",
    "print(\"Train scores: {:.4f}\".format(lreg.score(X_train, y_train)))\n",
    "print(\"Test scores: {:.4f}\".format(lreg.score(X_test, y_test)))\n",
    "\n",
    "regression_model_Scores.append({'Model Type' : 'Regression',\n",
    "                    'Model Name' : 'Linear Regressor',\n",
    "                    'Parameters' : 'none',\n",
    "                    'Training score': lreg.score(X_train, y_train),\n",
    "                    'Test Score':lreg.score(X_test, y_test)})"
   ]
  },
  {
   "cell_type": "code",
   "execution_count": 38,
   "metadata": {},
   "outputs": [
    {
     "name": "stdout",
     "output_type": "stream",
     "text": [
      "Train scores: 0.7913\n",
      "Test scores: 0.3619\n"
     ]
    }
   ],
   "source": [
    "#PCA linear\n",
    "lreg.fit(X_train_reduced, y_train)\n",
    "print(\"Train scores: {:.4f}\".format(lreg.score(X_train_reduced, y_train)))\n",
    "print(\"Test scores: {:.4f}\".format(lreg.score(X_test_reduced, y_test)))\n",
    "\n",
    "PCA_regression_model_Scores.append({'Model Type' : 'PCA',\n",
    "                    'Model Name' : 'Linear Regressor',\n",
    "                    'Parameters' : 'none',          \n",
    "                    'Training score': knn.score(X_train_reduced, y_train),\n",
    "                    'Test Score':knn.score(X_test_reduced, y_test)})"
   ]
  },
  {
   "cell_type": "code",
   "execution_count": 39,
   "metadata": {},
   "outputs": [
    {
     "name": "stdout",
     "output_type": "stream",
     "text": [
      "Train score: 0.9251\n",
      "Test score: 0.4706\n"
     ]
    }
   ],
   "source": [
    "#ridge\n",
    "ridge = Ridge(alpha = 0.1)\n",
    "ridge.fit(X_train,y_train)\n",
    "print('Train score: {:.4f}'.format(ridge.score(X_train,y_train)))\n",
    "print('Test score: {:.4f}'.format(ridge.score(X_test, y_test)))\n",
    "\n",
    "regression_model_Scores.append({'Model Type' : 'Regression',\n",
    "                    'Model Name' : 'Ridge',\n",
    "                    'Parameters' : 'alpha = 1',\n",
    "                    'Training score': ridge.score(X_train, y_train),\n",
    "                    'Test Score':ridge.score(X_test, y_test)})"
   ]
  },
  {
   "cell_type": "code",
   "execution_count": 40,
   "metadata": {},
   "outputs": [
    {
     "name": "stdout",
     "output_type": "stream",
     "text": [
      "Train score: 0.7913\n",
      "Test score: 0.3619\n"
     ]
    }
   ],
   "source": [
    "#pca ridge\n",
    "ridge = Ridge(alpha = 0.1)\n",
    "ridge.fit(X_train_reduced,y_train)\n",
    "print('Train score: {:.4f}'.format(ridge.score(X_train_reduced, y_train)))\n",
    "print('Test score: {:.4f}'.format(ridge.score(X_test_reduced, y_test)))\n",
    "\n",
    "PCA_regression_model_Scores.append({'Model Type' : 'PCA',\n",
    "                    'Model Name' : 'Ridge',\n",
    "                    'Parameters' : 'alpha = 1',          \n",
    "                    'Training score': ridge.score(X_train_reduced, y_train),\n",
    "                    'Test Score':ridge.score(X_test_reduced, y_test)})"
   ]
  },
  {
   "cell_type": "code",
   "execution_count": 41,
   "metadata": {},
   "outputs": [
    {
     "name": "stdout",
     "output_type": "stream",
     "text": [
      "Train score: 0.9191\n",
      "Test score: 0.4669\n"
     ]
    },
    {
     "name": "stderr",
     "output_type": "stream",
     "text": [
      "/Users/dixie/anaconda3/lib/python3.7/site-packages/sklearn/linear_model/coordinate_descent.py:492: ConvergenceWarning: Objective did not converge. You might want to increase the number of iterations. Fitting data with very small alpha may cause precision problems.\n",
      "  ConvergenceWarning)\n"
     ]
    }
   ],
   "source": [
    "#lasso\n",
    "lasso = Lasso(0.001)\n",
    "lasso.fit(X_train,y_train)\n",
    "print('Train score: {:.4f}'.format(lasso.score(X_train,y_train)))\n",
    "print('Test score: {:.4f}'.format(lasso.score(X_test, y_test)))\n",
    "\n",
    "regression_model_Scores.append({'Model Type' : 'Regression',\n",
    "                    'Model Name' : 'Lasso',\n",
    "                    'Parameters' : 'x_range = 0.001',\n",
    "                    'Training score': lasso.score(X_train, y_train),\n",
    "                    'Test Score': lasso.score(X_test, y_test)})"
   ]
  },
  {
   "cell_type": "code",
   "execution_count": 42,
   "metadata": {},
   "outputs": [
    {
     "name": "stdout",
     "output_type": "stream",
     "text": [
      "Train score: 0.7913\n",
      "Test score: 0.3619\n"
     ]
    }
   ],
   "source": [
    "#lasso pca\n",
    "lasso = Lasso(0.001)\n",
    "lasso.fit(X_train_reduced,y_train)\n",
    "print('Train score: {:.4f}'.format(lasso.score(X_train_reduced, y_train)))\n",
    "print('Test score: {:.4f}'.format(lasso.score(X_test_reduced, y_test)))\n",
    "\n",
    "PCA_regression_model_Scores.append({'Model Type' : 'PCA',\n",
    "                    'Model Name' : 'Lasso',\n",
    "                    'Parameters' : 'x_range = 0.001',\n",
    "                    'Training score': lasso.score(X_train_reduced, y_train),\n",
    "                    'Test Score': lasso.score(X_test_reduced, y_test)})"
   ]
  },
  {
   "cell_type": "code",
   "execution_count": 43,
   "metadata": {},
   "outputs": [
    {
     "name": "stdout",
     "output_type": "stream",
     "text": [
      "Train score: 1.0000\n",
      "Test score: 0.9986\n"
     ]
    }
   ],
   "source": [
    "#polynomial\n",
    "polyreg = LinearRegression()\n",
    "poly = PolynomialFeatures(2)\n",
    "X_train_poly = poly.fit_transform(X_train)\n",
    "X_test_poly = poly.transform(X_test)\n",
    "polyreg.fit(X_train_poly,y_train)\n",
    "print('Train score: {:.4f}'.format(polyreg.score(X_train_poly, y_train)))\n",
    "print('Test score: {:.4f}'.format(polyreg.score(X_test_poly, y_test)))\n",
    "\n",
    "regression_model_Scores.append({'Model Type' : 'Regression',\n",
    "                    'Model Name' : 'polynomial',\n",
    "                    'Parameters' : 'degree=2',\n",
    "                    'Training score': polyreg.score(X_train_poly, y_train),\n",
    "                    'Test Score': polyreg.score(X_test_poly, y_test)})"
   ]
  },
  {
   "cell_type": "code",
   "execution_count": 44,
   "metadata": {},
   "outputs": [
    {
     "name": "stdout",
     "output_type": "stream",
     "text": [
      "Train score: 0.9964\n",
      "Test score: 0.9723\n"
     ]
    }
   ],
   "source": [
    "#polynomial - PCA\n",
    "polyreg = LinearRegression()\n",
    "poly = PolynomialFeatures(2)\n",
    "X_train_poly_reduced = poly.fit_transform(X_train_reduced)\n",
    "X_test_poly_reduced = poly.transform(X_test_reduced)\n",
    "\n",
    "polyreg.fit(X_train_poly_reduced,y_train)\n",
    "print('Train score: {:.4f}'.format(polyreg.score(X_train_poly_reduced, y_train)))\n",
    "print('Test score: {:.4f}'.format(polyreg.score(X_test_poly_reduced, y_test)))\n",
    "\n",
    "PCA_regression_model_Scores.append({'Model Type' : 'PCA',\n",
    "                    'Model Name' : 'polynomial',\n",
    "                    'Parameters' : 'degree=4',\n",
    "                    'Training score': polyreg.score(X_train_poly_reduced, y_train),\n",
    "                    'Test Score': polyreg.score(X_test_poly_reduced, y_test)})"
   ]
  },
  {
   "cell_type": "code",
   "execution_count": 45,
   "metadata": {},
   "outputs": [
    {
     "name": "stdout",
     "output_type": "stream",
     "text": [
      "Train scores: 0.2490\n",
      "Test scores: 0.0192\n"
     ]
    },
    {
     "name": "stderr",
     "output_type": "stream",
     "text": [
      "/Users/dixie/anaconda3/lib/python3.7/site-packages/sklearn/svm/base.py:196: FutureWarning: The default value of gamma will change from 'auto' to 'scale' in version 0.22 to account better for unscaled features. Set gamma explicitly to 'auto' or 'scale' to avoid this warning.\n",
      "  \"avoid this warning.\", FutureWarning)\n"
     ]
    }
   ],
   "source": [
    "#svm simple\n",
    "clf = SVR()\n",
    "clf.fit(X_train,y_train)\n",
    "print(\"Train scores: {:.4f}\".format(clf.score(X_train, y_train)))\n",
    "print(\"Test scores: {:.4f}\".format(clf.score(X_test, y_test)))\n",
    "\n",
    "regression_model_Scores.append({'Model Type' : 'Regression',\n",
    "                    'Model Name' : 'SVM Simple',\n",
    "                    'Parameters' : 'none',\n",
    "                    'Training score': clf.score(X_train, y_train),\n",
    "                    'Test Score': clf.score(X_test, y_test)})"
   ]
  },
  {
   "cell_type": "code",
   "execution_count": 46,
   "metadata": {},
   "outputs": [
    {
     "name": "stdout",
     "output_type": "stream",
     "text": [
      "Train scores: 0.1909\n",
      "Test scores: 0.0110\n"
     ]
    },
    {
     "name": "stderr",
     "output_type": "stream",
     "text": [
      "/Users/dixie/anaconda3/lib/python3.7/site-packages/sklearn/svm/base.py:196: FutureWarning: The default value of gamma will change from 'auto' to 'scale' in version 0.22 to account better for unscaled features. Set gamma explicitly to 'auto' or 'scale' to avoid this warning.\n",
      "  \"avoid this warning.\", FutureWarning)\n"
     ]
    }
   ],
   "source": [
    "#svm simple pca\n",
    "clf = SVR()\n",
    "clf.fit(X_train_reduced,y_train)\n",
    "print(\"Train scores: {:.4f}\".format(clf.score(X_train_reduced, y_train)))\n",
    "print(\"Test scores: {:.4f}\".format(clf.score(X_test_reduced, y_test)))\n",
    "\n",
    "PCA_regression_model_Scores.append({'Model Type' : 'PCA',\n",
    "                    'Model Name' : 'SVM Simple',\n",
    "                    'Parameters' : 'none',\n",
    "                    'Training score': clf.score(X_train_reduced, y_train),\n",
    "                    'Test Score': clf.score(X_test_reduced, y_test)})"
   ]
  },
  {
   "cell_type": "code",
   "execution_count": 47,
   "metadata": {},
   "outputs": [
    {
     "name": "stdout",
     "output_type": "stream",
     "text": [
      "Train scores: 1.0000\n",
      "Test scores: 0.0743\n"
     ]
    }
   ],
   "source": [
    "#SVM Kernelized Regression - RBF\n",
    "svr_rbf = SVR(kernel='rbf', C=300, gamma=0.1, epsilon=.1)\n",
    "svr_rbf.fit(X_train,y_train)\n",
    "print(\"Train scores: {:.4f}\".format(svr_rbf.score(X_train, y_train)))\n",
    "print(\"Test scores: {:.4f}\".format(svr_rbf.score(X_test, y_test)))\n",
    "\n",
    "regression_model_Scores.append({'Model Type' : 'Regression',\n",
    "                    'Model Name' : 'SVM RBF',\n",
    "                    'Parameters' : 'c=300, gamma=0.1',\n",
    "                    'Training score': svr_rbf.score(X_train, y_train),\n",
    "                    'Test Score': svr_rbf.score(X_test, y_test)})"
   ]
  },
  {
   "cell_type": "code",
   "execution_count": 48,
   "metadata": {},
   "outputs": [
    {
     "name": "stdout",
     "output_type": "stream",
     "text": [
      "Train scores: 1.0000\n",
      "Test scores: 0.0811\n"
     ]
    }
   ],
   "source": [
    "#SVM Kernelized Regression - RBF - PCA\n",
    "svr_rbf = SVR(kernel='rbf', C=300, gamma=0.1, epsilon=.1)\n",
    "svr_rbf.fit(X_train_reduced,y_train)\n",
    "print(\"Train scores: {:.4f}\".format(svr_rbf.score(X_train_reduced, y_train)))\n",
    "print(\"Test scores: {:.4f}\".format(svr_rbf.score(X_test_reduced, y_test)))\n",
    "\n",
    "PCA_regression_model_Scores.append({'Model Type' : 'PCA',\n",
    "                    'Model Name' : 'SVM RBF',\n",
    "                    'Parameters' : 'c=300, gamma=0.1',\n",
    "                    'Training score': svr_rbf.score(X_train_reduced, y_train),\n",
    "                    'Test Score': svr_rbf.score(X_test_reduced, y_test)})"
   ]
  },
  {
   "cell_type": "code",
   "execution_count": 49,
   "metadata": {},
   "outputs": [
    {
     "name": "stdout",
     "output_type": "stream",
     "text": [
      "Train scores: 0.893874928444899\n",
      "Test scores: 0.3977273445613584\n"
     ]
    }
   ],
   "source": [
    "#SVM Kernelized Regression - Linear\n",
    "svr_lin = SVR(kernel='linear', C=300)\n",
    "svr_lin.fit(X_train,y_train)\n",
    "print(\"Train scores: {}\".format(svr_lin.score(X_train, y_train)))\n",
    "print(\"Test scores: {}\".format(svr_lin.score(X_test, y_test)))\n",
    "\n",
    "regression_model_Scores.append({'Model Type' : 'Regression',\n",
    "                    'Model Name' : 'SVM Linear',\n",
    "                    'Parameters' : 'c=300',\n",
    "                    'Training score': svr_lin.score(X_train, y_train),\n",
    "                    'Test Score': svr_lin.score(X_test, y_test)})"
   ]
  },
  {
   "cell_type": "code",
   "execution_count": 50,
   "metadata": {},
   "outputs": [
    {
     "name": "stdout",
     "output_type": "stream",
     "text": [
      "Train scores: 0.6860618128155265\n",
      "Test scores: 0.2755482930998333\n"
     ]
    }
   ],
   "source": [
    "#SVM Kernelized Regression - Linear - PCA\n",
    "svr_lin = SVR(kernel='linear', C=300)\n",
    "svr_lin.fit(X_train_reduced,y_train)\n",
    "print(\"Train scores: {}\".format(svr_lin.score(X_train_reduced, y_train)))\n",
    "print(\"Test scores: {}\".format(svr_lin.score(X_test_reduced, y_test)))\n",
    "\n",
    "PCA_regression_model_Scores.append({'Model Type' : 'PCA',\n",
    "                    'Model Name' : 'SVM Linear',\n",
    "                    'Parameters' : 'c=300',\n",
    "                    'Training score': svr_lin.score(X_train_reduced, y_train),\n",
    "                    'Test Score': svr_lin.score(X_test_reduced, y_test)})"
   ]
  },
  {
   "cell_type": "code",
   "execution_count": 51,
   "metadata": {},
   "outputs": [
    {
     "name": "stdout",
     "output_type": "stream",
     "text": [
      "Train scores: 1.0000\n",
      "Test scores: 0.9217\n"
     ]
    },
    {
     "name": "stderr",
     "output_type": "stream",
     "text": [
      "/Users/dixie/anaconda3/lib/python3.7/site-packages/sklearn/svm/base.py:196: FutureWarning: The default value of gamma will change from 'auto' to 'scale' in version 0.22 to account better for unscaled features. Set gamma explicitly to 'auto' or 'scale' to avoid this warning.\n",
      "  \"avoid this warning.\", FutureWarning)\n"
     ]
    }
   ],
   "source": [
    "#SVM Kernelized Regression - Polynomial\n",
    "svr_poly = SVR(kernel='poly', C=200, degree=3, epsilon=.1,coef0=4)\n",
    "svr_poly.fit(X_train,y_train)\n",
    "print(\"Train scores: {:.4f}\".format(svr_poly.score(X_train, y_train)))\n",
    "print(\"Test scores: {:.4f}\".format(svr_poly.score(X_test, y_test)))\n",
    "\n",
    "regression_model_Scores.append({'Model Type' : 'Regression',\n",
    "                    'Model Name' : 'SVM Polynomial',\n",
    "                    'Parameters' : 'C=200, degree=3',\n",
    "                    'Training score': svr_poly.score(X_train, y_train),\n",
    "                    'Test Score': svr_poly.score(X_test, y_test)})"
   ]
  },
  {
   "cell_type": "code",
   "execution_count": 52,
   "metadata": {},
   "outputs": [
    {
     "name": "stderr",
     "output_type": "stream",
     "text": [
      "/Users/dixie/anaconda3/lib/python3.7/site-packages/sklearn/svm/base.py:196: FutureWarning: The default value of gamma will change from 'auto' to 'scale' in version 0.22 to account better for unscaled features. Set gamma explicitly to 'auto' or 'scale' to avoid this warning.\n",
      "  \"avoid this warning.\", FutureWarning)\n"
     ]
    },
    {
     "name": "stdout",
     "output_type": "stream",
     "text": [
      "Train scores: 1.0000\n",
      "Test scores: -81.9399\n"
     ]
    }
   ],
   "source": [
    "#SVM Kernelized Regression - Polynomial - PCA\n",
    "svr_poly = SVR(kernel='poly', C=200, degree=3, epsilon=.1,coef0=4)\n",
    "svr_poly.fit(X_train_reduced,y_train)\n",
    "print(\"Train scores: {:.4f}\".format(svr_poly.score(X_train_reduced, y_train)))\n",
    "print(\"Test scores: {:.4f}\".format(svr_poly.score(X_test_reduced, y_test)))\n",
    "\n",
    "PCA_regression_model_Scores.append({'Model Type' : 'PCA',\n",
    "                    'Model Name' : 'SVM Polynomial',\n",
    "                    'Parameters' : 'C=200, degree=3',\n",
    "                    'Training score': svr_poly.score(X_train_reduced, y_train),\n",
    "                    'Test Score': svr_poly.score(X_test_reduced, y_test)})"
   ]
  },
  {
   "cell_type": "markdown",
   "metadata": {},
   "source": [
    "#### Apply deep learning models covered in class"
   ]
  },
  {
   "cell_type": "code",
   "execution_count": 39,
   "metadata": {},
   "outputs": [
    {
     "data": {
      "text/plain": [
       "(582, 31)"
      ]
     },
     "execution_count": 39,
     "metadata": {},
     "output_type": "execute_result"
    }
   ],
   "source": [
    "X_train.shape"
   ]
  },
  {
   "cell_type": "code",
   "execution_count": 40,
   "metadata": {},
   "outputs": [],
   "source": [
    "# step 1: build the model  oder important\n",
    "model = Sequential()\n",
    "#input layer\n",
    "model.add(Dense(30, input_dim = 31, activation='relu'))\n",
    "\n",
    "#or hidden layer here\n",
    "# model.add(Dense(20),actuvarion='relu')\n",
    "\n",
    "#output layer\n",
    "model.add(Dense(1, activation = 'softmax'))"
   ]
  },
  {
   "cell_type": "code",
   "execution_count": 41,
   "metadata": {},
   "outputs": [],
   "source": [
    "model.compile(loss = 'mean_squared_error', optimizer = 'adam', metrics = ['accuracy'])"
   ]
  },
  {
   "cell_type": "code",
   "execution_count": 42,
   "metadata": {},
   "outputs": [
    {
     "name": "stdout",
     "output_type": "stream",
     "text": [
      "Epoch 1/20\n",
      "582/582 [==============================] - 0s 272us/step - loss: 303.8869 - acc: 0.0000e+00\n",
      "Epoch 2/20\n",
      "582/582 [==============================] - 0s 20us/step - loss: 303.8869 - acc: 0.0000e+00\n",
      "Epoch 3/20\n",
      "582/582 [==============================] - 0s 23us/step - loss: 303.8869 - acc: 0.0000e+00\n",
      "Epoch 4/20\n",
      "582/582 [==============================] - 0s 31us/step - loss: 303.8869 - acc: 0.0000e+00\n",
      "Epoch 5/20\n",
      "582/582 [==============================] - 0s 23us/step - loss: 303.8869 - acc: 0.0000e+00\n",
      "Epoch 6/20\n",
      "582/582 [==============================] - 0s 26us/step - loss: 303.8868 - acc: 0.0000e+00\n",
      "Epoch 7/20\n",
      "582/582 [==============================] - 0s 36us/step - loss: 303.8869 - acc: 0.0000e+00\n",
      "Epoch 8/20\n",
      "582/582 [==============================] - 0s 24us/step - loss: 303.8869 - acc: 0.0000e+00\n",
      "Epoch 9/20\n",
      "582/582 [==============================] - 0s 23us/step - loss: 303.8869 - acc: 0.0000e+00\n",
      "Epoch 10/20\n",
      "582/582 [==============================] - 0s 32us/step - loss: 303.8869 - acc: 0.0000e+00\n",
      "Epoch 11/20\n",
      "582/582 [==============================] - 0s 19us/step - loss: 303.8869 - acc: 0.0000e+00\n",
      "Epoch 12/20\n",
      "582/582 [==============================] - 0s 20us/step - loss: 303.8869 - acc: 0.0000e+00\n",
      "Epoch 13/20\n",
      "582/582 [==============================] - 0s 21us/step - loss: 303.8869 - acc: 0.0000e+00\n",
      "Epoch 14/20\n",
      "582/582 [==============================] - 0s 29us/step - loss: 303.8869 - acc: 0.0000e+00\n",
      "Epoch 15/20\n",
      "582/582 [==============================] - 0s 23us/step - loss: 303.8868 - acc: 0.0000e+00\n",
      "Epoch 16/20\n",
      "582/582 [==============================] - 0s 20us/step - loss: 303.8869 - acc: 0.0000e+00\n",
      "Epoch 17/20\n",
      "582/582 [==============================] - 0s 20us/step - loss: 303.8869 - acc: 0.0000e+00\n",
      "Epoch 18/20\n",
      "582/582 [==============================] - 0s 25us/step - loss: 303.8869 - acc: 0.0000e+00\n",
      "Epoch 19/20\n",
      "582/582 [==============================] - 0s 35us/step - loss: 303.8868 - acc: 0.0000e+00\n",
      "Epoch 20/20\n",
      "582/582 [==============================] - 0s 20us/step - loss: 303.8869 - acc: 0.0000e+00\n"
     ]
    },
    {
     "data": {
      "text/plain": [
       "<keras.callbacks.History at 0x1a2463b710>"
      ]
     },
     "execution_count": 42,
     "metadata": {},
     "output_type": "execute_result"
    }
   ],
   "source": [
    "model.fit(X_train, y_train, batch_size= 128, epochs=20)"
   ]
  },
  {
   "cell_type": "code",
   "execution_count": 43,
   "metadata": {},
   "outputs": [
    {
     "name": "stdout",
     "output_type": "stream",
     "text": [
      "194/194 [==============================] - 0s 166us/step\n",
      "Test Loss 5213.51761305\n",
      "Test Accuracy 0.0\n"
     ]
    }
   ],
   "source": [
    "# Step 4: Model evaluation\n",
    "\n",
    "loss_and_metrics = model.evaluate(X_test, y_test)\n",
    "\n",
    "print(\"Test Loss\", loss_and_metrics[0])\n",
    "print(\"Test Accuracy\", loss_and_metrics[1])"
   ]
  },
  {
   "cell_type": "code",
   "execution_count": null,
   "metadata": {},
   "outputs": [],
   "source": []
  },
  {
   "cell_type": "markdown",
   "metadata": {},
   "source": [
    "## Classification Task:\n",
    "KNN classifcation, Logistic Regression, Linear Supprt Vector Machine, Kerenilzed Support Vector Machine, Decision Tree."
   ]
  },
  {
   "cell_type": "code",
   "execution_count": 44,
   "metadata": {},
   "outputs": [],
   "source": [
    "#For regression minmax or stand?\n",
    "\n",
    "X_train_org, X_test_org, y_train, y_test = train_test_split(X, y_c, random_state = 0)\n",
    "\n",
    "scaler = StandardScaler()\n",
    "scaler.fit(X_train_org)\n",
    "X_train = scaler.transform(X_train_org)\n",
    "X_test = scaler.transform(X_test_org)"
   ]
  },
  {
   "cell_type": "markdown",
   "metadata": {},
   "source": [
    "#### Apply two voting classifiers - one with hard voting and one with soft voting\n",
    "code done\n"
   ]
  },
  {
   "cell_type": "code",
   "execution_count": 59,
   "metadata": {},
   "outputs": [],
   "source": [
    "#hard：Compute the test precision score of hard-voting classifier\n",
    "#from sklearn.ensemble import VotingClassifier"
   ]
  },
  {
   "cell_type": "code",
   "execution_count": 60,
   "metadata": {},
   "outputs": [],
   "source": [
    "from sklearn.svm import LinearSVC \n",
    "from sklearn.neighbors import KNeighborsClassifier \n",
    "linear_svm__fit = LinearSVC().fit(X_train, y_train)\n",
    "# dtree_fit = DecisionTreeClassifier(max_depth=3, random_state=0)\n",
    "# dtree_fit.fit(X_train, y_train)\n",
    "knn_clf = KNeighborsClassifier(5)\n",
    "knn_clf.fit(X_train, y_train)\n",
    "\n",
    "\n",
    "#voting_clf = VotingClassifier(estimators=[('lsvm', linear_svm__fit), ('dtree', dtree_fit), ('knn', knn_clf)], voting='hard')\n",
    "voting_clf = VotingClassifier(estimators=[('lsvm', linear_svm__fit), ('knn', knn_clf)], voting='hard')\n",
    "\n",
    "voting_clf.fit(X_train, y_train)\n",
    "\n",
    "\n",
    "y_pred = voting_clf.predict(X_test)"
   ]
  },
  {
   "cell_type": "code",
   "execution_count": 61,
   "metadata": {},
   "outputs": [
    {
     "name": "stdout",
     "output_type": "stream",
     "text": [
      "Confusion matrix:\n",
      "[[124   0]\n",
      " [  2  68]]\n"
     ]
    }
   ],
   "source": [
    "from sklearn.metrics import confusion_matrix\n",
    "print(\"Confusion matrix:\\n{}\".format(confusion_matrix(y_test, y_pred)))"
   ]
  },
  {
   "cell_type": "code",
   "execution_count": 62,
   "metadata": {},
   "outputs": [],
   "source": [
    "#soft: Compute the test recall score of soft-voting classifier?"
   ]
  },
  {
   "cell_type": "code",
   "execution_count": 63,
   "metadata": {},
   "outputs": [],
   "source": [
    "from sklearn.linear_model import LogisticRegression\n",
    "voting_clf = VotingClassifier(estimators=[\n",
    "    ('log_clf', LogisticRegression()),\n",
    "    ('dt_clf', DecisionTreeClassifier(max_depth=3, random_state=0))\n",
    "], voting='soft')"
   ]
  },
  {
   "cell_type": "code",
   "execution_count": 64,
   "metadata": {},
   "outputs": [
    {
     "name": "stderr",
     "output_type": "stream",
     "text": [
      "/Users/dixie/anaconda3/lib/python3.7/site-packages/sklearn/linear_model/logistic.py:433: FutureWarning: Default solver will be changed to 'lbfgs' in 0.22. Specify a solver to silence this warning.\n",
      "  FutureWarning)\n"
     ]
    },
    {
     "data": {
      "text/plain": [
       "0.9948453608247423"
      ]
     },
     "execution_count": 64,
     "metadata": {},
     "output_type": "execute_result"
    }
   ],
   "source": [
    "voting_clf.fit(X_train, y_train)\n",
    "voting_clf.score(X_test, y_test)"
   ]
  },
  {
   "cell_type": "code",
   "execution_count": 65,
   "metadata": {},
   "outputs": [
    {
     "name": "stdout",
     "output_type": "stream",
     "text": [
      "Confusion matrix:\n",
      "[[124   0]\n",
      " [  1  69]]\n"
     ]
    }
   ],
   "source": [
    "y_pred = voting_clf.predict(X_test)\n",
    "print(\"Confusion matrix:\\n{}\".format(confusion_matrix(y_test, y_pred)))"
   ]
  },
  {
   "cell_type": "code",
   "execution_count": null,
   "metadata": {},
   "outputs": [],
   "source": []
  },
  {
   "cell_type": "code",
   "execution_count": null,
   "metadata": {},
   "outputs": [],
   "source": []
  },
  {
   "cell_type": "code",
   "execution_count": null,
   "metadata": {},
   "outputs": [],
   "source": []
  },
  {
   "cell_type": "markdown",
   "metadata": {},
   "source": [
    "#### Apply any two models with bagging and any two models with pasting.\n"
   ]
  },
  {
   "cell_type": "code",
   "execution_count": 46,
   "metadata": {},
   "outputs": [
    {
     "name": "stdout",
     "output_type": "stream",
     "text": [
      "BaggingClassifier Train score: 1.0000  \n",
      "BaggingClassifier Test score: 1.0000  \n"
     ]
    }
   ],
   "source": [
    "dt_clf = DecisionTreeClassifier(random_state=0)\n",
    "\n",
    "grid_params = {\n",
    "    'n_estimators':[5,10,25,50,100],\n",
    "    'max_samples':[10,50,100,150],\n",
    "    \n",
    "}\n",
    "\n",
    "\n",
    "bag_clf1 = BaggingClassifier(dt_clf, bootstrap=True, random_state=0)\n",
    "\n",
    "gbag_clf1 = GridSearchCV(bag_clf1, param_grid = grid_params, cv=5)\n",
    "\n",
    "gbag_clf1.fit(X_train,y_train)\n",
    "\n",
    "print(\"BaggingClassifier Train score: {:<8.4f}\".format(gbag_clf1.score(X_train,y_train)))\n",
    "print(\"BaggingClassifier Test score: {:<8.4f}\".format(gbag_clf1.score(X_test,y_test)))\n",
    "\n"
   ]
  },
  {
   "cell_type": "code",
   "execution_count": 47,
   "metadata": {},
   "outputs": [
    {
     "name": "stdout",
     "output_type": "stream",
     "text": [
      "BaggingClassifier Train score: 0.9983  \n",
      "BaggingClassifier Test score: 0.9948  \n"
     ]
    }
   ],
   "source": [
    "dt_clf = DecisionTreeClassifier(random_state=0)\n",
    "\n",
    "grid_params = {\n",
    "    'n_estimators':[5,10,25,50,100],\n",
    "    'max_samples':[10,50,100,150],\n",
    "    \n",
    "}\n",
    "\n",
    "\n",
    "bag_clf1 = BaggingClassifier(dt_clf, bootstrap=False, random_state=0)\n",
    "\n",
    "gbag_clf1 = GridSearchCV(bag_clf1, param_grid = grid_params, cv=5)\n",
    "\n",
    "gbag_clf1.fit(X_train,y_train)\n",
    "\n",
    "print(\"BaggingClassifier Train score: {:<8.4f}\".format(gbag_clf1.score(X_train,y_train)))\n",
    "print(\"BaggingClassifier Test score: {:<8.4f}\".format(gbag_clf1.score(X_test,y_test)))\n"
   ]
  },
  {
   "cell_type": "code",
   "execution_count": 48,
   "metadata": {},
   "outputs": [
    {
     "name": "stdout",
     "output_type": "stream",
     "text": [
      "BaggingClassifier Best params: {'max_samples': 100, 'n_estimators': 50}\n",
      "BaggingClassifier Train score: 0.9725  \n",
      "BaggingClassifier Test score: 0.9897  \n"
     ]
    }
   ],
   "source": [
    "lrc_clf = LogisticRegression(solver= 'lbfgs')\n",
    "\n",
    "grid_params = {\n",
    "    'n_estimators':[10,25,50,100],\n",
    "    'max_samples':[50,100,150],\n",
    "    \n",
    "}\n",
    "\n",
    "bag_clf2 = BaggingClassifier(lrc_clf, bootstrap=True, random_state=0)\n",
    "\n",
    "gbag_clf2 = GridSearchCV(bag_clf2, param_grid = grid_params, cv=5)\n",
    "\n",
    "gbag_clf2.fit(X_train,y_train)\n",
    "print(\"BaggingClassifier Best params:\", gbag_clf2.best_params_)\n",
    "\n",
    "print(\"BaggingClassifier Train score: {:<8.4f}\".format(gbag_clf2.score(X_train,y_train)))\n",
    "print(\"BaggingClassifier Test score: {:<8.4f}\".format(gbag_clf2.score(X_test,y_test)))"
   ]
  },
  {
   "cell_type": "code",
   "execution_count": 49,
   "metadata": {},
   "outputs": [
    {
     "name": "stdout",
     "output_type": "stream",
     "text": [
      "BaggingClassifier Best params: {'max_samples': 150, 'n_estimators': 25}\n",
      "BaggingClassifier Train score: 0.9725  \n",
      "BaggingClassifier Test score: 0.9897  \n"
     ]
    }
   ],
   "source": [
    "lrc_clf = LogisticRegression(solver= 'lbfgs')\n",
    "\n",
    "grid_params = {\n",
    "    'n_estimators':[10,25,50,100],\n",
    "    'max_samples':[50,100,150],\n",
    "    \n",
    "}\n",
    "\n",
    "bag_clf2 = BaggingClassifier(lrc_clf, bootstrap=False, random_state=0)\n",
    "\n",
    "gbag_clf2 = GridSearchCV(bag_clf2, param_grid = grid_params, cv=5)\n",
    "\n",
    "gbag_clf2.fit(X_train,y_train)\n",
    "print(\"BaggingClassifier Best params:\", gbag_clf2.best_params_)\n",
    "\n",
    "print(\"BaggingClassifier Train score: {:<8.4f}\".format(gbag_clf2.score(X_train,y_train)))\n",
    "print(\"BaggingClassifier Test score: {:<8.4f}\".format(gbag_clf2.score(X_test,y_test)))"
   ]
  },
  {
   "cell_type": "markdown",
   "metadata": {},
   "source": [
    "#### Apply any two models with adaboost boosting\n",
    "code done"
   ]
  },
  {
   "cell_type": "code",
   "execution_count": 51,
   "metadata": {},
   "outputs": [
    {
     "name": "stdout",
     "output_type": "stream",
     "text": [
      "AdaBoostClassifier Train score: 1.0000  \n",
      "AdaBoostClassifier Test score: 1.0000  \n"
     ]
    }
   ],
   "source": [
    "dt_clf = DecisionTreeClassifier(max_depth = 1, random_state=0)\n",
    "\n",
    "grid_params = {\n",
    "    'n_estimators':[5,10,25,50,100],\n",
    "    'learning_rate':[0.01,0.05,0.1,0.5,1],\n",
    "    \n",
    "}\n",
    "\n",
    "\n",
    "ada_clf1 = AdaBoostClassifier(dt_clf, algorithm=\"SAMME.R\", learning_rate=0.5, random_state=0)\n",
    "\n",
    "gada_clf1 = GridSearchCV(ada_clf1, param_grid = grid_params, cv=5)\n",
    "\n",
    "gada_clf1.fit(X_train,y_train)\n",
    "print(\"AdaBoostClassifier Train score: {:<8.4f}\".format(gada_clf1.score(X_train,y_train)))\n",
    "print(\"AdaBoostClassifier Test score: {:<8.4f}\".format(gada_clf1.score(X_test,y_test)))"
   ]
  },
  {
   "cell_type": "code",
   "execution_count": null,
   "metadata": {},
   "outputs": [],
   "source": []
  },
  {
   "cell_type": "markdown",
   "metadata": {},
   "source": [
    "#### Apply one model with gradient boosting\n"
   ]
  },
  {
   "cell_type": "code",
   "execution_count": 54,
   "metadata": {},
   "outputs": [
    {
     "name": "stdout",
     "output_type": "stream",
     "text": [
      "GradientBoostingClassifier Train score: 1.0000  \n",
      "GradientBoostingClassifier Test score: 1.0000  \n"
     ]
    }
   ],
   "source": [
    "grid_params = {\n",
    "    'n_estimators':[5,10,25,50,100],\n",
    "    'learning_rate':[0.01,0.05,0.1,0.5,1],\n",
    "    'max_depth':[1,2,3]\n",
    "    \n",
    "}\n",
    "\n",
    "gbrt_clf = GradientBoostingClassifier(random_state=0)\n",
    "\n",
    "ggbrt_clf = GridSearchCV(gbrt_clf, param_grid = grid_params, cv=5)\n",
    "\n",
    "ggbrt_clf.fit(X_train,y_train)\n",
    "\n",
    "print(\"GradientBoostingClassifier Train score: {:<8.4f}\".format(ggbrt_clf.score(X_train,y_train)))\n",
    "print(\"GradientBoostingClassifier Test score: {:<8.4f}\".format(ggbrt_clf.score(X_test,y_test)))"
   ]
  },
  {
   "cell_type": "markdown",
   "metadata": {},
   "source": [
    "#### Apply PCA on data and then apply all the models in project 1 again on data you get from PCA. Compare your results with results in project 1. You don't need to apply all the models twice. Just copy the result table from project 1, prepare similar table for all the models after PCA and compare both tables. Does PCA help in getting better results?\n"
   ]
  },
  {
   "cell_type": "code",
   "execution_count": 75,
   "metadata": {},
   "outputs": [
    {
     "name": "stderr",
     "output_type": "stream",
     "text": [
      "/Users/dixie/anaconda3/lib/python3.7/site-packages/sklearn/preprocessing/data.py:334: DataConversionWarning: Data with input dtype int64, float64, object were all converted to float64 by MinMaxScaler.\n",
      "  return self.partial_fit(X, y)\n"
     ]
    }
   ],
   "source": [
    "y = dfNew['Risk']\n",
    "X= dfNew.drop(['Risk'],axis=1, inplace=False)\n",
    "from sklearn.preprocessing import MinMaxScaler\n",
    "from sklearn.model_selection import train_test_split\n",
    "X_train_dt, X_test_dt, y_train, y_test = train_test_split(X,y,random_state=0,)\n",
    "\n",
    "Scaler= MinMaxScaler()\n",
    "X_train = Scaler.fit_transform(X_train_dt)\n",
    "X_test = Scaler.transform(X_test_dt)"
   ]
  },
  {
   "cell_type": "code",
   "execution_count": 76,
   "metadata": {},
   "outputs": [
    {
     "name": "stdout",
     "output_type": "stream",
     "text": [
      "Train score: 0.9794\n",
      "Train score: 0.9794\n"
     ]
    }
   ],
   "source": [
    "#knn classifier\n",
    "from sklearn.neighbors import KNeighborsClassifier\n",
    "knn = KNeighborsClassifier(2)   \n",
    "knn.fit(X_train, y_train)        \n",
    "print('Train score: {:.4f}'.format(knn.score(X_train, y_train)))    \n",
    "print('Train score: {:.4f}'.format(knn.score(X_test, y_test)))\n",
    "\n",
    "regression_model_Scores.append({'Model Type' : 'Classification',\n",
    "                    'Model Name' : 'KNN',\n",
    "                    'Parameters' : 'k=2',          \n",
    "                    'Training score': knn.score(X_train, y_train),\n",
    "                    'Test Score':knn.score(X_test, y_test)})"
   ]
  },
  {
   "cell_type": "code",
   "execution_count": 77,
   "metadata": {},
   "outputs": [
    {
     "name": "stdout",
     "output_type": "stream",
     "text": [
      "Train score: 0.9697\n",
      "Test score: 0.8938\n"
     ]
    }
   ],
   "source": [
    "#PCA knn\n",
    "knn = KNeighborsRegressor(2)   \n",
    "knn.fit(X_train_reduced, y_train)        \n",
    "print('Train score: {:.4f}'.format(knn.score(X_train_reduced, y_train)))\n",
    "print('Test score: {:.4f}'.format(knn.score(X_test_reduced, y_test)))\n",
    "\n",
    "PCA_regression_model_Scores.append({'Model Type' : 'PCA',\n",
    "                    'Model Name' : 'KNN',\n",
    "                    'Parameters' : 'k=2',          \n",
    "                    'Training score': knn.score(X_train_reduced, y_train),\n",
    "                    'Test Score':knn.score(X_test_reduced, y_test)})"
   ]
  },
  {
   "cell_type": "code",
   "execution_count": 78,
   "metadata": {},
   "outputs": [
    {
     "name": "stdout",
     "output_type": "stream",
     "text": [
      "Train score: 0.9656\n",
      "Test score: 0.9845\n"
     ]
    },
    {
     "name": "stderr",
     "output_type": "stream",
     "text": [
      "/Users/dixie/anaconda3/lib/python3.7/site-packages/sklearn/linear_model/logistic.py:433: FutureWarning: Default solver will be changed to 'lbfgs' in 0.22. Specify a solver to silence this warning.\n",
      "  FutureWarning)\n"
     ]
    }
   ],
   "source": [
    "#Logistic classifier\n",
    "logreg = LogisticRegression(penalty = 'l2', C = 10)\n",
    "logreg.fit(X_train, y_train)\n",
    "print('Train score: {:.4f}'.format(logreg.score(X_train, y_train)))\n",
    "print('Test score: {:.4f}'.format(logreg.score(X_test, y_test)))\n",
    "\n",
    "regression_model_Scores.append({'Model Type' : 'Classification',\n",
    "                    'Model Name' : 'Logistic',\n",
    "                    'Parameters' : 'penalty = l2, C = 10',          \n",
    "                    'Training score': logreg.score(X_train, y_train),\n",
    "                    'Test Score':logreg.score(X_test, y_test)})"
   ]
  },
  {
   "cell_type": "code",
   "execution_count": 79,
   "metadata": {},
   "outputs": [
    {
     "name": "stdout",
     "output_type": "stream",
     "text": [
      "Train score: 0.9845\n",
      "Test score: 0.9897\n"
     ]
    },
    {
     "name": "stderr",
     "output_type": "stream",
     "text": [
      "/Users/dixie/anaconda3/lib/python3.7/site-packages/sklearn/linear_model/logistic.py:433: FutureWarning: Default solver will be changed to 'lbfgs' in 0.22. Specify a solver to silence this warning.\n",
      "  FutureWarning)\n"
     ]
    }
   ],
   "source": [
    "#Logistic classifier - PCA\n",
    "logreg = LogisticRegression(penalty = 'l2', C = 10)\n",
    "logreg.fit(X_train_reduced, y_train)\n",
    "print('Train score: {:.4f}'.format(logreg.score(X_train_reduced, y_train)))\n",
    "print('Test score: {:.4f}'.format(logreg.score(X_test_reduced, y_test)))\n",
    "\n",
    "PCA_regression_model_Scores.append({'Model Type' : 'PCA',\n",
    "                    'Model Name' : 'Logistic',\n",
    "                    'Parameters' : 'penalty = l2, C = 10',          \n",
    "                    'Training score': logreg.score(X_train_reduced, y_train),\n",
    "                    'Test Score':logreg.score(X_test_reduced, y_test)})"
   ]
  },
  {
   "cell_type": "code",
   "execution_count": 80,
   "metadata": {},
   "outputs": [
    {
     "name": "stdout",
     "output_type": "stream",
     "text": [
      "Train scores: 0.9639175257731959\n",
      "Test scores: 0.9845360824742269\n"
     ]
    }
   ],
   "source": [
    "#Linear SVC\n",
    "clf = LinearSVC()\n",
    "clf.fit(X_train,y_train)\n",
    "print(\"Train scores: {}\".format(clf.score(X_train, y_train)))\n",
    "print(\"Test scores: {}\".format(clf.score(X_test, y_test)))\n",
    "\n",
    "regression_model_Scores.append({'Model Type' : 'Classification',\n",
    "                    'Model Name' : 'Linear SVC',\n",
    "                    'Parameters' : 'none',          \n",
    "                    'Training score': clf.score(X_train, y_train),\n",
    "                    'Test Score':clf.score(X_test, y_test)})"
   ]
  },
  {
   "cell_type": "code",
   "execution_count": 81,
   "metadata": {},
   "outputs": [
    {
     "name": "stdout",
     "output_type": "stream",
     "text": [
      "Train scores: 0.9845360824742269\n",
      "Test scores: 0.9896907216494846\n"
     ]
    }
   ],
   "source": [
    "#Linear SVC - PCA\n",
    "clf = LinearSVC()\n",
    "clf.fit(X_train_reduced,y_train)\n",
    "print(\"Train scores: {}\".format(clf.score(X_train_reduced, y_train)))\n",
    "print(\"Test scores: {}\".format(clf.score(X_test_reduced, y_test)))\n",
    "\n",
    "PCA_regression_model_Scores.append({'Model Type' : 'PCA',\n",
    "                    'Model Name' : 'Linear SVC',\n",
    "                    'Parameters' : 'none',          \n",
    "                    'Training score': clf.score(X_train_reduced, y_train),\n",
    "                    'Test Score':clf.score(X_test_reduced, y_test)})"
   ]
  },
  {
   "cell_type": "code",
   "execution_count": 82,
   "metadata": {},
   "outputs": [
    {
     "name": "stdout",
     "output_type": "stream",
     "text": [
      "Train scores: 0.9965635738831615\n",
      "Test scores: 0.9896907216494846\n"
     ]
    }
   ],
   "source": [
    "#SVC KERNEL RBF\n",
    "svc_rbf = SVC(kernel='rbf', gamma=1,C=200)\n",
    "svc_rbf.fit(X_train,y_train)\n",
    "\n",
    "print(\"Train scores: {}\".format(svc_rbf.score(X_train, y_train)))\n",
    "print(\"Test scores: {}\".format(svc_rbf.score(X_test, y_test)))\n",
    "\n",
    "regression_model_Scores.append({'Model Type' : 'Classification',\n",
    "                    'Model Name' : 'SVC-BRF',\n",
    "                    'Parameters' : 'kernel=rbf, gamma=1, C=200',          \n",
    "                    'Training score': svc_rbf.score(X_train, y_train),\n",
    "                    'Test Score':svc_rbf.score(X_test, y_test)})"
   ]
  },
  {
   "cell_type": "code",
   "execution_count": 83,
   "metadata": {},
   "outputs": [
    {
     "name": "stdout",
     "output_type": "stream",
     "text": [
      "Train scores: 1.0\n",
      "Test scores: 0.9639175257731959\n"
     ]
    }
   ],
   "source": [
    "#SVC KERNEL RBF - PCA\n",
    "svc_rbf = SVC(kernel='rbf', gamma=1, C=200)\n",
    "svc_rbf.fit(X_train_reduced,y_train)\n",
    "\n",
    "print(\"Train scores: {}\".format(svc_rbf.score(X_train_reduced, y_train)))\n",
    "print(\"Test scores: {}\".format(svc_rbf.score(X_test_reduced, y_test)))\n",
    "\n",
    "PCA_regression_model_Scores.append({'Model Type' : 'PCA',\n",
    "                    'Model Name' : 'SVC-BRF',\n",
    "                    'Parameters' : 'kernel=rbf, gamma=1, C=200',          \n",
    "                    'Training score': svc_rbf.score(X_train_reduced, y_train),\n",
    "                    'Test Score':svc_rbf.score(X_test_reduced, y_test)})"
   ]
  },
  {
   "cell_type": "code",
   "execution_count": 84,
   "metadata": {},
   "outputs": [
    {
     "name": "stdout",
     "output_type": "stream",
     "text": [
      "Train scores: 0.9914089347079038\n",
      "Test scores: 0.9948453608247423\n"
     ]
    }
   ],
   "source": [
    "#SVC Kernel - Linear\n",
    "svc_lin = SVC(kernel='linear', C=300)\n",
    "svc_lin.fit(X_train,y_train)\n",
    "print(\"Train scores: {}\".format(svc_lin.score(X_train, y_train)))\n",
    "print(\"Test scores: {}\".format(svc_lin.score(X_test, y_test)))\n",
    "\n",
    "regression_model_Scores.append({'Model Type' : 'Classification',\n",
    "                    'Model Name' : 'SVC-Linear',\n",
    "                    'Parameters' : 'kernel=linear, C=300',          \n",
    "                    'Training score': svc_lin.score(X_train, y_train),\n",
    "                    'Test Score':svc_lin.score(X_test, y_test)})"
   ]
  },
  {
   "cell_type": "code",
   "execution_count": 85,
   "metadata": {},
   "outputs": [
    {
     "name": "stdout",
     "output_type": "stream",
     "text": [
      "Train scores: 0.979381443298969\n",
      "Test scores: 0.9948453608247423\n"
     ]
    }
   ],
   "source": [
    "#SVC Kernel  - PCA\n",
    "svc_lin = SVC(kernel='linear', C=300)\n",
    "svc_lin.fit(X_train_reduced, y_train)\n",
    "print(\"Train scores: {}\".format(svc_lin.score(X_train_reduced, y_train)))\n",
    "print(\"Test scores: {}\".format(svc_lin.score(X_test_reduced, y_test)))\n",
    "\n",
    "PCA_regression_model_Scores.append({'Model Type' : 'PCA',\n",
    "                    'Model Name' : 'SVC-Linear',\n",
    "                    'Parameters' : 'kernel=linear, C=300',          \n",
    "                    'Training score': svc_lin.score(X_train_reduced, y_train),\n",
    "                    'Test Score':svc_lin.score(X_test_reduced, y_test)})"
   ]
  },
  {
   "cell_type": "code",
   "execution_count": 86,
   "metadata": {},
   "outputs": [
    {
     "name": "stdout",
     "output_type": "stream",
     "text": [
      "Train scores: 0.9656357388316151\n",
      "Test scores: 0.9742268041237113\n"
     ]
    },
    {
     "name": "stderr",
     "output_type": "stream",
     "text": [
      "/Users/dixie/anaconda3/lib/python3.7/site-packages/sklearn/svm/base.py:196: FutureWarning: The default value of gamma will change from 'auto' to 'scale' in version 0.22 to account better for unscaled features. Set gamma explicitly to 'auto' or 'scale' to avoid this warning.\n",
      "  \"avoid this warning.\", FutureWarning)\n"
     ]
    }
   ],
   "source": [
    "#SVC Kernel - Polynomial \n",
    "svc_poly = SVC(kernel='poly', degree=2, C=300)\n",
    "svc_poly.fit(X_train,y_train)\n",
    "print(\"Train scores: {}\".format(svc_poly.score(X_train, y_train)))\n",
    "print(\"Test scores: {}\".format(svc_poly.score(X_test, y_test)))\n",
    "\n",
    "regression_model_Scores.append({'Model Type' : 'Classification',\n",
    "                    'Model Name' : 'SVC - Polynomial ',\n",
    "                    'Parameters' : 'kernel=poly, degree=2, C=300',          \n",
    "                    'Training score': svc_poly.score(X_train, y_train),\n",
    "                    'Test Score':svc_poly.score(X_test, y_test)})"
   ]
  },
  {
   "cell_type": "code",
   "execution_count": 87,
   "metadata": {},
   "outputs": [
    {
     "name": "stdout",
     "output_type": "stream",
     "text": [
      "Train scores: 0.9896907216494846\n",
      "Test scores: 0.9690721649484536\n"
     ]
    },
    {
     "name": "stderr",
     "output_type": "stream",
     "text": [
      "/Users/dixie/anaconda3/lib/python3.7/site-packages/sklearn/svm/base.py:196: FutureWarning: The default value of gamma will change from 'auto' to 'scale' in version 0.22 to account better for unscaled features. Set gamma explicitly to 'auto' or 'scale' to avoid this warning.\n",
      "  \"avoid this warning.\", FutureWarning)\n"
     ]
    }
   ],
   "source": [
    "#SVC Kernel - Polynomial - PCA\n",
    "svc_poly = SVC(kernel='poly', degree=2, C=300)\n",
    "svc_poly.fit(X_train_reduced,y_train)\n",
    "print(\"Train scores: {}\".format(svc_poly.score(X_train_reduced, y_train)))\n",
    "print(\"Test scores: {}\".format(svc_poly.score(X_test_reduced, y_test)))\n",
    "\n",
    "PCA_regression_model_Scores.append({'Model Type' : 'PCA',\n",
    "                    'Model Name' : 'SVC - Polynomial ',\n",
    "                    'Parameters' : 'kernel=poly, degree=2, C=300',          \n",
    "                    'Training score': svc_poly.score(X_train_reduced, y_train),\n",
    "                    'Test Score':svc_poly.score(X_test_reduced, y_test)})"
   ]
  },
  {
   "cell_type": "code",
   "execution_count": 88,
   "metadata": {},
   "outputs": [
    {
     "name": "stdout",
     "output_type": "stream",
     "text": [
      "Accuracy on training set: 1.000\n",
      "Accuracy on test set: 1.000\n"
     ]
    }
   ],
   "source": [
    "#Decision Tree\n",
    "dtree = DecisionTreeClassifier(random_state=0)\n",
    "dtree.fit(X_train, y_train)\n",
    "print(\"Accuracy on training set: {:.3f}\".format(dtree.score(X_train, y_train)))\n",
    "print(\"Accuracy on test set: {:.3f}\".format(dtree.score(X_test, y_test)))\n",
    "\n",
    "regression_model_Scores.append({'Model Type' : 'Classification',\n",
    "                    'Model Name' : 'Decision Tree ',\n",
    "                    'Parameters' : 'none',          \n",
    "                    'Training score': dtree.score(X_train, y_train),\n",
    "                    'Test Score':dtree.score(X_test, y_test)})"
   ]
  },
  {
   "cell_type": "code",
   "execution_count": 89,
   "metadata": {},
   "outputs": [
    {
     "name": "stdout",
     "output_type": "stream",
     "text": [
      "Accuracy on training set: 1.000\n",
      "Accuracy on test set: 0.985\n"
     ]
    }
   ],
   "source": [
    "#Decision Tree - PCA\n",
    "dtree = DecisionTreeClassifier(random_state=0)\n",
    "dtree.fit(X_train_reduced, y_train)\n",
    "print(\"Accuracy on training set: {:.3f}\".format(dtree.score(X_train_reduced, y_train)))\n",
    "print(\"Accuracy on test set: {:.3f}\".format(dtree.score(X_test_reduced, y_test)))\n",
    "\n",
    "PCA_regression_model_Scores.append({'Model Type' : 'PCA',\n",
    "                    'Model Name' : 'Decision Tree ',\n",
    "                    'Parameters' : 'none',          \n",
    "                    'Training score': dtree.score(X_train_reduced, y_train),\n",
    "                    'Test Score':dtree.score(X_test_reduced, y_test)})"
   ]
  },
  {
   "cell_type": "code",
   "execution_count": 90,
   "metadata": {},
   "outputs": [],
   "source": [
    "Project_One = pd.DataFrame(regression_model_Scores)\n",
    "Project_One.set_index('Model Name', inplace = True)"
   ]
  },
  {
   "cell_type": "code",
   "execution_count": 91,
   "metadata": {},
   "outputs": [],
   "source": [
    "Project_PCA = pd.DataFrame(PCA_regression_model_Scores)\n",
    "Project_PCA.set_index('Model Name', inplace = True)"
   ]
  },
  {
   "cell_type": "code",
   "execution_count": 92,
   "metadata": {},
   "outputs": [
    {
     "data": {
      "text/html": [
       "<div>\n",
       "<style scoped>\n",
       "    .dataframe tbody tr th:only-of-type {\n",
       "        vertical-align: middle;\n",
       "    }\n",
       "\n",
       "    .dataframe tbody tr th {\n",
       "        vertical-align: top;\n",
       "    }\n",
       "\n",
       "    .dataframe thead th {\n",
       "        text-align: right;\n",
       "    }\n",
       "</style>\n",
       "<table border=\"1\" class=\"dataframe\">\n",
       "  <thead>\n",
       "    <tr style=\"text-align: right;\">\n",
       "      <th></th>\n",
       "      <th>Model Type_x</th>\n",
       "      <th>Parameters_x</th>\n",
       "      <th>Test Score_x</th>\n",
       "      <th>Training score_x</th>\n",
       "      <th>Model Type_y</th>\n",
       "      <th>Parameters_y</th>\n",
       "      <th>Test Score_y</th>\n",
       "      <th>Training score_y</th>\n",
       "    </tr>\n",
       "    <tr>\n",
       "      <th>Model Name</th>\n",
       "      <th></th>\n",
       "      <th></th>\n",
       "      <th></th>\n",
       "      <th></th>\n",
       "      <th></th>\n",
       "      <th></th>\n",
       "      <th></th>\n",
       "      <th></th>\n",
       "    </tr>\n",
       "  </thead>\n",
       "  <tbody>\n",
       "    <tr>\n",
       "      <th>KNN Regressor</th>\n",
       "      <td>Regression</td>\n",
       "      <td>k=1</td>\n",
       "      <td>0.138632</td>\n",
       "      <td>1.000000</td>\n",
       "      <td>PCA</td>\n",
       "      <td>k=1</td>\n",
       "      <td>0.138508</td>\n",
       "      <td>1.000000</td>\n",
       "    </tr>\n",
       "    <tr>\n",
       "      <th>Linear Regressor</th>\n",
       "      <td>Regression</td>\n",
       "      <td>none</td>\n",
       "      <td>0.495740</td>\n",
       "      <td>0.930151</td>\n",
       "      <td>PCA</td>\n",
       "      <td>none</td>\n",
       "      <td>0.138508</td>\n",
       "      <td>1.000000</td>\n",
       "    </tr>\n",
       "    <tr>\n",
       "      <th>Ridge</th>\n",
       "      <td>Regression</td>\n",
       "      <td>alpha = 1</td>\n",
       "      <td>0.470610</td>\n",
       "      <td>0.925095</td>\n",
       "      <td>PCA</td>\n",
       "      <td>alpha = 1</td>\n",
       "      <td>0.361863</td>\n",
       "      <td>0.791272</td>\n",
       "    </tr>\n",
       "    <tr>\n",
       "      <th>Lasso</th>\n",
       "      <td>Regression</td>\n",
       "      <td>x_range = 0.001</td>\n",
       "      <td>0.466879</td>\n",
       "      <td>0.919114</td>\n",
       "      <td>PCA</td>\n",
       "      <td>x_range = 0.001</td>\n",
       "      <td>0.361850</td>\n",
       "      <td>0.791272</td>\n",
       "    </tr>\n",
       "    <tr>\n",
       "      <th>polynomial</th>\n",
       "      <td>Regression</td>\n",
       "      <td>degree=2</td>\n",
       "      <td>0.998619</td>\n",
       "      <td>1.000000</td>\n",
       "      <td>PCA</td>\n",
       "      <td>degree=4</td>\n",
       "      <td>0.972299</td>\n",
       "      <td>0.996369</td>\n",
       "    </tr>\n",
       "    <tr>\n",
       "      <th>SVM Simple</th>\n",
       "      <td>Regression</td>\n",
       "      <td>none</td>\n",
       "      <td>0.019168</td>\n",
       "      <td>0.249046</td>\n",
       "      <td>PCA</td>\n",
       "      <td>none</td>\n",
       "      <td>0.010964</td>\n",
       "      <td>0.190893</td>\n",
       "    </tr>\n",
       "    <tr>\n",
       "      <th>SVM RBF</th>\n",
       "      <td>Regression</td>\n",
       "      <td>c=300, gamma=0.1</td>\n",
       "      <td>0.074335</td>\n",
       "      <td>0.999977</td>\n",
       "      <td>PCA</td>\n",
       "      <td>c=300, gamma=0.1</td>\n",
       "      <td>0.081133</td>\n",
       "      <td>0.999978</td>\n",
       "    </tr>\n",
       "    <tr>\n",
       "      <th>SVM Linear</th>\n",
       "      <td>Regression</td>\n",
       "      <td>c=300</td>\n",
       "      <td>0.397727</td>\n",
       "      <td>0.893875</td>\n",
       "      <td>PCA</td>\n",
       "      <td>c=300</td>\n",
       "      <td>0.275548</td>\n",
       "      <td>0.686062</td>\n",
       "    </tr>\n",
       "    <tr>\n",
       "      <th>SVM Polynomial</th>\n",
       "      <td>Regression</td>\n",
       "      <td>C=200, degree=3</td>\n",
       "      <td>0.921747</td>\n",
       "      <td>0.999986</td>\n",
       "      <td>PCA</td>\n",
       "      <td>C=200, degree=3</td>\n",
       "      <td>-81.939936</td>\n",
       "      <td>0.999968</td>\n",
       "    </tr>\n",
       "    <tr>\n",
       "      <th>KNN</th>\n",
       "      <td>Classification</td>\n",
       "      <td>k=2</td>\n",
       "      <td>0.979381</td>\n",
       "      <td>0.979381</td>\n",
       "      <td>PCA</td>\n",
       "      <td>k=2</td>\n",
       "      <td>0.893836</td>\n",
       "      <td>0.969667</td>\n",
       "    </tr>\n",
       "    <tr>\n",
       "      <th>Logistic</th>\n",
       "      <td>Classification</td>\n",
       "      <td>penalty = l2, C = 10</td>\n",
       "      <td>0.984536</td>\n",
       "      <td>0.965636</td>\n",
       "      <td>PCA</td>\n",
       "      <td>penalty = l2, C = 10</td>\n",
       "      <td>0.989691</td>\n",
       "      <td>0.984536</td>\n",
       "    </tr>\n",
       "    <tr>\n",
       "      <th>Linear SVC</th>\n",
       "      <td>Classification</td>\n",
       "      <td>none</td>\n",
       "      <td>0.984536</td>\n",
       "      <td>0.963918</td>\n",
       "      <td>PCA</td>\n",
       "      <td>none</td>\n",
       "      <td>0.989691</td>\n",
       "      <td>0.984536</td>\n",
       "    </tr>\n",
       "    <tr>\n",
       "      <th>SVC-BRF</th>\n",
       "      <td>Classification</td>\n",
       "      <td>kernel=rbf, gamma=1, C=200</td>\n",
       "      <td>0.989691</td>\n",
       "      <td>0.996564</td>\n",
       "      <td>PCA</td>\n",
       "      <td>kernel=rbf, gamma=1, C=200</td>\n",
       "      <td>0.963918</td>\n",
       "      <td>1.000000</td>\n",
       "    </tr>\n",
       "    <tr>\n",
       "      <th>SVC-Linear</th>\n",
       "      <td>Classification</td>\n",
       "      <td>kernel=linear, C=300</td>\n",
       "      <td>0.994845</td>\n",
       "      <td>0.991409</td>\n",
       "      <td>PCA</td>\n",
       "      <td>kernel=linear, C=300</td>\n",
       "      <td>0.994845</td>\n",
       "      <td>0.979381</td>\n",
       "    </tr>\n",
       "    <tr>\n",
       "      <th>SVC - Polynomial</th>\n",
       "      <td>Classification</td>\n",
       "      <td>kernel=poly, degree=2, C=300</td>\n",
       "      <td>0.974227</td>\n",
       "      <td>0.965636</td>\n",
       "      <td>PCA</td>\n",
       "      <td>kernel=poly, degree=2, C=300</td>\n",
       "      <td>0.969072</td>\n",
       "      <td>0.989691</td>\n",
       "    </tr>\n",
       "    <tr>\n",
       "      <th>Decision Tree</th>\n",
       "      <td>Classification</td>\n",
       "      <td>none</td>\n",
       "      <td>1.000000</td>\n",
       "      <td>1.000000</td>\n",
       "      <td>PCA</td>\n",
       "      <td>none</td>\n",
       "      <td>0.984536</td>\n",
       "      <td>1.000000</td>\n",
       "    </tr>\n",
       "  </tbody>\n",
       "</table>\n",
       "</div>"
      ],
      "text/plain": [
       "                     Model Type_x                  Parameters_x  Test Score_x  \\\n",
       "Model Name                                                                      \n",
       "KNN Regressor          Regression                           k=1      0.138632   \n",
       "Linear Regressor       Regression                          none      0.495740   \n",
       "Ridge                  Regression                     alpha = 1      0.470610   \n",
       "Lasso                  Regression               x_range = 0.001      0.466879   \n",
       "polynomial             Regression                      degree=2      0.998619   \n",
       "SVM Simple             Regression                          none      0.019168   \n",
       "SVM RBF                Regression              c=300, gamma=0.1      0.074335   \n",
       "SVM Linear             Regression                         c=300      0.397727   \n",
       "SVM Polynomial         Regression               C=200, degree=3      0.921747   \n",
       "KNN                Classification                           k=2      0.979381   \n",
       "Logistic           Classification          penalty = l2, C = 10      0.984536   \n",
       "Linear SVC         Classification                          none      0.984536   \n",
       "SVC-BRF            Classification    kernel=rbf, gamma=1, C=200      0.989691   \n",
       "SVC-Linear         Classification          kernel=linear, C=300      0.994845   \n",
       "SVC - Polynomial   Classification  kernel=poly, degree=2, C=300      0.974227   \n",
       "Decision Tree      Classification                          none      1.000000   \n",
       "\n",
       "                   Training score_x Model Type_y  \\\n",
       "Model Name                                         \n",
       "KNN Regressor              1.000000          PCA   \n",
       "Linear Regressor           0.930151          PCA   \n",
       "Ridge                      0.925095          PCA   \n",
       "Lasso                      0.919114          PCA   \n",
       "polynomial                 1.000000          PCA   \n",
       "SVM Simple                 0.249046          PCA   \n",
       "SVM RBF                    0.999977          PCA   \n",
       "SVM Linear                 0.893875          PCA   \n",
       "SVM Polynomial             0.999986          PCA   \n",
       "KNN                        0.979381          PCA   \n",
       "Logistic                   0.965636          PCA   \n",
       "Linear SVC                 0.963918          PCA   \n",
       "SVC-BRF                    0.996564          PCA   \n",
       "SVC-Linear                 0.991409          PCA   \n",
       "SVC - Polynomial           0.965636          PCA   \n",
       "Decision Tree              1.000000          PCA   \n",
       "\n",
       "                                   Parameters_y  Test Score_y  \\\n",
       "Model Name                                                      \n",
       "KNN Regressor                               k=1      0.138508   \n",
       "Linear Regressor                           none      0.138508   \n",
       "Ridge                                 alpha = 1      0.361863   \n",
       "Lasso                           x_range = 0.001      0.361850   \n",
       "polynomial                             degree=4      0.972299   \n",
       "SVM Simple                                 none      0.010964   \n",
       "SVM RBF                        c=300, gamma=0.1      0.081133   \n",
       "SVM Linear                                c=300      0.275548   \n",
       "SVM Polynomial                  C=200, degree=3    -81.939936   \n",
       "KNN                                         k=2      0.893836   \n",
       "Logistic                   penalty = l2, C = 10      0.989691   \n",
       "Linear SVC                                 none      0.989691   \n",
       "SVC-BRF              kernel=rbf, gamma=1, C=200      0.963918   \n",
       "SVC-Linear                 kernel=linear, C=300      0.994845   \n",
       "SVC - Polynomial   kernel=poly, degree=2, C=300      0.969072   \n",
       "Decision Tree                              none      0.984536   \n",
       "\n",
       "                   Training score_y  \n",
       "Model Name                           \n",
       "KNN Regressor              1.000000  \n",
       "Linear Regressor           1.000000  \n",
       "Ridge                      0.791272  \n",
       "Lasso                      0.791272  \n",
       "polynomial                 0.996369  \n",
       "SVM Simple                 0.190893  \n",
       "SVM RBF                    0.999978  \n",
       "SVM Linear                 0.686062  \n",
       "SVM Polynomial             0.999968  \n",
       "KNN                        0.969667  \n",
       "Logistic                   0.984536  \n",
       "Linear SVC                 0.984536  \n",
       "SVC-BRF                    1.000000  \n",
       "SVC-Linear                 0.979381  \n",
       "SVC - Polynomial           0.989691  \n",
       "Decision Tree              1.000000  "
      ]
     },
     "execution_count": 92,
     "metadata": {},
     "output_type": "execute_result"
    }
   ],
   "source": [
    "Model_PCA_Results = pd.merge(Project_One, Project_PCA, left_index=True, right_index=True)\n",
    "Model_PCA_Results"
   ]
  },
  {
   "cell_type": "markdown",
   "metadata": {},
   "source": [
    "#### Apply deep learning models covered in class"
   ]
  },
  {
   "cell_type": "code",
   "execution_count": 55,
   "metadata": {},
   "outputs": [
    {
     "data": {
      "text/plain": [
       "(582, 31)"
      ]
     },
     "execution_count": 55,
     "metadata": {},
     "output_type": "execute_result"
    }
   ],
   "source": [
    "X_train.shape"
   ]
  },
  {
   "cell_type": "code",
   "execution_count": 56,
   "metadata": {},
   "outputs": [],
   "source": [
    "# step 1: build the model  oder important\n",
    "model = Sequential()\n",
    "#input layer\n",
    "model.add(Dense(35, input_dim = 31, activation='relu'))\n",
    "\n",
    "model.add(Dense(1, activation = 'softmax'))"
   ]
  },
  {
   "cell_type": "code",
   "execution_count": 57,
   "metadata": {},
   "outputs": [],
   "source": [
    "model.compile(loss = 'binary_crossentropy', optimizer = 'adam', metrics = ['accuracy'])"
   ]
  },
  {
   "cell_type": "code",
   "execution_count": 58,
   "metadata": {},
   "outputs": [
    {
     "name": "stdout",
     "output_type": "stream",
     "text": [
      "Epoch 1/20\n",
      "582/582 [==============================] - 0s 218us/step - loss: 9.5052 - acc: 0.4038\n",
      "Epoch 2/20\n",
      "582/582 [==============================] - 0s 24us/step - loss: 9.5052 - acc: 0.4038\n",
      "Epoch 3/20\n",
      "582/582 [==============================] - 0s 25us/step - loss: 9.5052 - acc: 0.4038\n",
      "Epoch 4/20\n",
      "582/582 [==============================] - 0s 30us/step - loss: 9.5052 - acc: 0.4038\n",
      "Epoch 5/20\n",
      "582/582 [==============================] - 0s 22us/step - loss: 9.5052 - acc: 0.4038\n",
      "Epoch 6/20\n",
      "582/582 [==============================] - 0s 34us/step - loss: 9.5052 - acc: 0.4038\n",
      "Epoch 7/20\n",
      "582/582 [==============================] - 0s 21us/step - loss: 9.5052 - acc: 0.4038\n",
      "Epoch 8/20\n",
      "582/582 [==============================] - 0s 20us/step - loss: 9.5052 - acc: 0.4038\n",
      "Epoch 9/20\n",
      "582/582 [==============================] - 0s 29us/step - loss: 9.5052 - acc: 0.4038\n",
      "Epoch 10/20\n",
      "582/582 [==============================] - 0s 22us/step - loss: 9.5052 - acc: 0.4038\n",
      "Epoch 11/20\n",
      "582/582 [==============================] - 0s 22us/step - loss: 9.5052 - acc: 0.4038\n",
      "Epoch 12/20\n",
      "582/582 [==============================] - 0s 20us/step - loss: 9.5052 - acc: 0.4038\n",
      "Epoch 13/20\n",
      "582/582 [==============================] - 0s 23us/step - loss: 9.5052 - acc: 0.4038\n",
      "Epoch 14/20\n",
      "582/582 [==============================] - 0s 32us/step - loss: 9.5052 - acc: 0.4038\n",
      "Epoch 15/20\n",
      "582/582 [==============================] - 0s 26us/step - loss: 9.5052 - acc: 0.4038\n",
      "Epoch 16/20\n",
      "582/582 [==============================] - 0s 26us/step - loss: 9.5052 - acc: 0.4038\n",
      "Epoch 17/20\n",
      "582/582 [==============================] - 0s 30us/step - loss: 9.5052 - acc: 0.4038\n",
      "Epoch 18/20\n",
      "582/582 [==============================] - 0s 27us/step - loss: 9.5052 - acc: 0.4038\n",
      "Epoch 19/20\n",
      "582/582 [==============================] - 0s 33us/step - loss: 9.5052 - acc: 0.4038\n",
      "Epoch 20/20\n",
      "582/582 [==============================] - 0s 38us/step - loss: 9.5052 - acc: 0.4038\n"
     ]
    },
    {
     "data": {
      "text/plain": [
       "<keras.callbacks.History at 0x1a1acdee48>"
      ]
     },
     "execution_count": 58,
     "metadata": {},
     "output_type": "execute_result"
    }
   ],
   "source": [
    "model.fit(X_train, y_train, batch_size= 128, epochs=20)"
   ]
  },
  {
   "cell_type": "code",
   "execution_count": 60,
   "metadata": {},
   "outputs": [
    {
     "name": "stdout",
     "output_type": "stream",
     "text": [
      "194/194 [==============================] - 0s 217us/step\n",
      "Test Loss 10.1899775967\n",
      "Test Accuracy 0.360824742268\n"
     ]
    }
   ],
   "source": [
    "# Step 4: Model evaluation\n",
    "\n",
    "\n",
    "loss_and_metrics = model.evaluate(X_test, y_test)\n",
    "\n",
    "print(\"Test Loss\", loss_and_metrics[0])\n",
    "print(\"Test Accuracy\", loss_and_metrics[1])"
   ]
  },
  {
   "cell_type": "code",
   "execution_count": null,
   "metadata": {},
   "outputs": [],
   "source": []
  }
 ],
 "metadata": {
  "kernelspec": {
   "display_name": "Python 3",
   "language": "python",
   "name": "python3"
  },
  "language_info": {
   "codemirror_mode": {
    "name": "ipython",
    "version": 3
   },
   "file_extension": ".py",
   "mimetype": "text/x-python",
   "name": "python",
   "nbconvert_exporter": "python",
   "pygments_lexer": "ipython3",
   "version": "3.7.3"
  }
 },
 "nbformat": 4,
 "nbformat_minor": 2
}
